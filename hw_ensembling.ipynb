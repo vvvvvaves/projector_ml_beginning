{
 "cells": [
  {
   "cell_type": "code",
   "execution_count": 61,
   "id": "b86abf75",
   "metadata": {},
   "outputs": [],
   "source": [
    "from sklearn.preprocessing import OneHotEncoder, OrdinalEncoder\n",
    "from sklearn.compose import ColumnTransformer\n",
    "from sklearn.impute import SimpleImputer\n",
    "from sklearn.pipeline import make_pipeline\n",
    "from sklearn.tree import DecisionTreeClassifier\n",
    "from sklearn.model_selection import GridSearchCV\n",
    "import xgboost as xgb\n",
    "from sklearn.metrics import accuracy_score\n",
    "from sklearn.model_selection import StratifiedKFold\n",
    "from sklearn.linear_model import LogisticRegression\n",
    "from IPython import display\n",
    "import numpy as np\n",
    "import pandas as pd\n",
    "import seaborn as sns"
   ]
  },
  {
   "cell_type": "code",
   "execution_count": 215,
   "id": "9c504b27",
   "metadata": {},
   "outputs": [],
   "source": [
    "train = pd.read_csv('../data/spaceship_titanic_train.csv')\n",
    "test = pd.read_csv('../data/spaceship_titanic_test.csv')\n",
    "def prepare_data(data, do_1hot=True, X_only = False):\n",
    "    group_count = lambda id_: id_[:4]\n",
    "    data['travel_group'] = data['PassengerId'].apply(lambda id_: id_[:4])\n",
    "#     data['travel_group_n'] = data['travel_group'].apply(lambda group: data.loc[data.travel_group == group].shape[0])\n",
    "#     data['travelling_with_n_kids'] = (-1)*(train['Age'] < 18).astype(int)+ data['travel_group'].apply(lambda group: data.loc[(data.travel_group == group) & (data.Age < 18)].shape[0])\n",
    "    data['cabin_side'] = data.Cabin.apply(lambda cabin: np.nan if str(cabin) == 'nan' else str(cabin)[-1])\n",
    "    data['cabin_deck'] = data.Cabin.apply(lambda cabin: np.nan if str(cabin) == 'nan' else str(cabin)[0])\n",
    "    data['cabin_num'] = data.Cabin.apply(lambda cabin: np.nan if str(cabin) == 'nan' else int(str(cabin)[2:-2]))\n",
    "    \n",
    "    \n",
    "    drop_ = ['PassengerId','Name', 'Cabin', 'travel_group']\n",
    "    if not X_only:\n",
    "        cat = ['HomePlanet', 'CryoSleep', 'Destination', 'VIP', 'Transported', 'cabin_side', 'cabin_deck']\n",
    "    else:\n",
    "        cat = ['HomePlanet', 'CryoSleep', 'Destination', 'VIP', 'cabin_side', 'cabin_deck']\n",
    "    num = ['FoodCourt', 'VRDeck', 'Spa', 'Age', 'RoomService', 'ShoppingMall', 'cabin_num']\n",
    "    one_hot = OneHotEncoder(sparse_output=False, drop='if_binary')\n",
    "   \n",
    "    if do_1hot:\n",
    "        pipe = make_pipeline(\n",
    "        SimpleImputer(strategy='most_frequent'),\n",
    "        one_hot)\n",
    "    else:\n",
    "        pipe = make_pipeline(\n",
    "        SimpleImputer(strategy='most_frequent'),\n",
    "        OrdinalEncoder())\n",
    "    \n",
    "    transformer = ColumnTransformer([\n",
    "        ('cat', pipe, cat),\n",
    "        ('num', SimpleImputer(strategy='mean'), num),\n",
    "        ('drop_', 'drop', drop_)\n",
    "    ], remainder='passthrough',\n",
    "       verbose_feature_names_out=False)\n",
    "\n",
    "    \n",
    "    d = transformer.fit_transform(data)\n",
    "    if do_1hot:\n",
    "        df = pd.DataFrame(d, columns = transformer.get_feature_names_out(), dtype=float)\n",
    "    else:\n",
    "        df = pd.DataFrame(d, columns = transformer.get_feature_names_out())\n",
    "    return df"
   ]
  },
  {
   "cell_type": "code",
   "execution_count": 216,
   "id": "ca2c5d72",
   "metadata": {},
   "outputs": [],
   "source": [
    "train_prep = prepare_data(train, True)"
   ]
  },
  {
   "cell_type": "code",
   "execution_count": 217,
   "id": "1f60b78c",
   "metadata": {},
   "outputs": [],
   "source": [
    "train_X, train_y = train_prep.drop('Transported_True', axis=1), train_prep.Transported_True"
   ]
  },
  {
   "cell_type": "code",
   "execution_count": 218,
   "id": "e990c4d0",
   "metadata": {},
   "outputs": [],
   "source": [
    "fixed_skf = StratifiedKFold(n_splits=5, shuffle=True, random_state=127)"
   ]
  },
  {
   "cell_type": "code",
   "execution_count": 219,
   "id": "9449d5fd",
   "metadata": {},
   "outputs": [
    {
     "name": "stderr",
     "output_type": "stream",
     "text": [
      "C:\\Users\\ASUS\\machine_learning_projector\\venv\\lib\\site-packages\\lightgbm\\engine.py:573: UserWarning: Found `n_estimators` in params. Will use it instead of argument\n",
      "  _log_warning(f\"Found `{alias}` in params. Will use it instead of argument\")\n"
     ]
    },
    {
     "name": "stdout",
     "output_type": "stream",
     "text": [
      "Training until validation scores don't improve for 10 rounds\n",
      "[10]\tcv_agg's train binary_error: 0.196566 + 0.00203069\tcv_agg's valid binary_error: 0.216036 + 0.00139315\n",
      "[20]\tcv_agg's train binary_error: 0.181468 + 0.001711\tcv_agg's valid binary_error: 0.201081 + 0.00634233\n",
      "[30]\tcv_agg's train binary_error: 0.173876 + 0.00268055\tcv_agg's valid binary_error: 0.19717 + 0.00477764\n",
      "[40]\tcv_agg's train binary_error: 0.169361 + 0.00303455\tcv_agg's valid binary_error: 0.194409 + 0.00435873\n",
      "[50]\tcv_agg's train binary_error: 0.163695 + 0.00331076\tcv_agg's valid binary_error: 0.191763 + 0.00312278\n",
      "[60]\tcv_agg's train binary_error: 0.161193 + 0.00228092\tcv_agg's valid binary_error: 0.190037 + 0.00415925\n",
      "[70]\tcv_agg's train binary_error: 0.155125 + 0.00248465\tcv_agg's valid binary_error: 0.189807 + 0.00382374\n",
      "[80]\tcv_agg's train binary_error: 0.151933 + 0.0021022\tcv_agg's valid binary_error: 0.188197 + 0.00504529\n",
      "[90]\tcv_agg's train binary_error: 0.147446 + 0.00209266\tcv_agg's valid binary_error: 0.189922 + 0.00525481\n",
      "Early stopping, best iteration is:\n",
      "[81]\tcv_agg's train binary_error: 0.151472 + 0.00215999\tcv_agg's valid binary_error: 0.188082 + 0.00484024\n"
     ]
    }
   ],
   "source": [
    "import lightgbm as lgb\n",
    "lgb_params = {\n",
    "    #('train: 0.8529852970335823', 'valid: 0.8153695330371873')\n",
    "    \"objective\": \"binary\",\n",
    "    \"learning_rate\": 0.1,\n",
    "    \"num_threads\": 10,\n",
    "    \"metric\": \"binary_error\",\n",
    "    \"seed\": 42,\n",
    "   \"verbose\":-1,\n",
    "    \n",
    "    #eta 0.01 ('train: 0.8085527468480869', 'valid: 0.7939731642128626')\n",
    "    #eta 0.03 ('train: 0.8322500349942634', 'valid: 0.8069714549649911')\n",
    "    \n",
    "     #regularization\n",
    "    \"max_depth\":5,\n",
    "    \"colsample_bytree\": 0.9,\n",
    "    \"subsample\": 0.9,\n",
    "    #('train: 0.8471183562848146', 'valid: 0.8108826746585971')\n",
    "    \"subsample_freq\": 1,\n",
    "#     \"min_data_in_leaf\": 60,\n",
    "    #('train: 0.8432359386639986', 'valid: 0.8141035779064327')\n",
    "#     \"num_leaves\":20,\n",
    "#     #('train: 0.8392384710701339', 'valid: 0.8137586182024641')\n",
    "    \n",
    "    \"n_estimators\":10_000\n",
    "    \n",
    "    #categorical features\n",
    "#     'cat_smooth': 5,\n",
    "#     'min_data_per_group': 2\n",
    "#     did not improve the results\n",
    "    \n",
    "}\n",
    "lgb_train = lgb.Dataset(train_X, label=train_y, free_raw_data=False)\n",
    "lgb_result = lgb.cv(lgb_params, lgb_train, 10_000, folds=fixed_skf, callbacks=[lgb.early_stopping(10), lgb.log_evaluation(10)], eval_train_metric=True, return_cvbooster=True)\n",
    "lgb_params['n_estimators'] = lgb_result[\"cvbooster\"].best_iteration"
   ]
  },
  {
   "cell_type": "code",
   "execution_count": 220,
   "id": "7e313897",
   "metadata": {},
   "outputs": [
    {
     "data": {
      "text/plain": [
       "train binary_error-mean    0.848528\n",
       "valid binary_error-mean    0.811918\n",
       "Name: 80, dtype: float64"
      ]
     },
     "execution_count": 220,
     "metadata": {},
     "output_type": "execute_result"
    }
   ],
   "source": [
    "lgb_result_df = pd.DataFrame()\n",
    "lgb_result_df['train binary_error-mean'] = lgb_result['train binary_error-mean']\n",
    "lgb_result_df['valid binary_error-mean'] = lgb_result['valid binary_error-mean']\n",
    "1-lgb_result_df.iloc[-1]"
   ]
  },
  {
   "cell_type": "code",
   "execution_count": 221,
   "id": "0225dad4",
   "metadata": {},
   "outputs": [
    {
     "name": "stdout",
     "output_type": "stream",
     "text": [
      "[0]\ttrain-error:0.22719+0.00428\ttest-error:0.23939+0.00538\n",
      "[10]\ttrain-error:0.19056+0.00248\ttest-error:0.21029+0.00426\n",
      "[20]\ttrain-error:0.17940+0.00176\ttest-error:0.20143+0.00329\n",
      "[30]\ttrain-error:0.17313+0.00177\ttest-error:0.19901+0.00194\n",
      "[40]\ttrain-error:0.16706+0.00193\ttest-error:0.19475+0.00297\n",
      "[50]\ttrain-error:0.16096+0.00194\ttest-error:0.19372+0.00446\n",
      "[60]\ttrain-error:0.15674+0.00204\ttest-error:0.19176+0.00504\n",
      "[70]\ttrain-error:0.15280+0.00276\ttest-error:0.19096+0.00487\n",
      "[80]\ttrain-error:0.14972+0.00238\ttest-error:0.18854+0.00492\n",
      "[90]\ttrain-error:0.14552+0.00261\ttest-error:0.18831+0.00456\n",
      "[95]\ttrain-error:0.14256+0.00236\ttest-error:0.19096+0.00603\n"
     ]
    },
    {
     "data": {
      "text/plain": [
       "train-error-mean    0.852496\n",
       "test-error-mean     0.812148\n",
       "Name: 86, dtype: float64"
      ]
     },
     "execution_count": 221,
     "metadata": {},
     "output_type": "execute_result"
    }
   ],
   "source": [
    "xgb_params = {\n",
    "    #default\n",
    "    \"objective\": \"binary:logistic\",\n",
    "    \"eta\": 0.1,\n",
    "    \"verbosity\": 0,\n",
    "    \"nthread\": 4,\n",
    "    \"random_seed\": 1,\n",
    "    \"eval_metric\": \"error\",\n",
    "    #train-error-mean    0.861325\n",
    "    #test-error-mean     0.810883\n",
    "    \n",
    "    #eta = 0.01 test 0.78, train 80.5\n",
    "    \n",
    "    # regularization parameters\n",
    "    \"max_depth\": 5,\n",
    "    \"max_leaves\": 0,\n",
    "    \"min_child_weight\":1,\n",
    "    \"subsample\": 0.9,\n",
    "    \"colsample_bytree\": 0.9,\n",
    "    \"n_estimators\": 10_000\n",
    "    \n",
    "    #train-error-mean    0.848240\n",
    "    #test-error-mean     0.811689\n",
    "    \n",
    "#    \"tree_method\": \"hist\",    \n",
    "#    \"grow_policy\": \"lossguide\"\n",
    "#     train-error-mean    0.827677\n",
    "#     test-error-mean     0.807776\n",
    "}\n",
    "xgb_train = xgb.DMatrix(train_X, train_y, feature_names=train_X.columns)\n",
    "xgb_result = xgb.cv(xgb_params, xgb_train, folds =fixed_skf, num_boost_round=10_000, early_stopping_rounds=10, verbose_eval=10)\n",
    "xgb_params['n_estimators'] = list(xgb_result['test-error-mean']).index(min(list(xgb_result['test-error-mean'])))\n",
    "1-xgb_result.iloc[-1, [0, 2]]"
   ]
  },
  {
   "cell_type": "code",
   "execution_count": 222,
   "id": "5388d5bc",
   "metadata": {},
   "outputs": [
    {
     "data": {
      "text/plain": [
       "iterations             153.000000\n",
       "train-Accuracy-mean      0.827505\n",
       "test-Accuracy-mean       0.804785\n",
       "Name: 153, dtype: float64"
      ]
     },
     "execution_count": 222,
     "metadata": {},
     "output_type": "execute_result"
    }
   ],
   "source": [
    "import catboost as ctb\n",
    "ctb_params = {\n",
    "    \"loss_function\": \"Logloss\",\n",
    "    \"eval_metric\": \"Accuracy\",\n",
    "    \"iterations\": 1000,\n",
    "    \"learning_rate\": 0.1,\n",
    "    \"random_seed\": 42,\n",
    "    \"od_wait\": 30,\n",
    "    \"od_type\": \"Iter\",\n",
    "    \"thread_count\": 10,\n",
    "    \"logging_level\":\"Silent\",\n",
    "    \n",
    "#     train-Accuracy-mean      0.817439\n",
    "#     test-Accuracy-mean       0.806167\n",
    "    \n",
    "    #regularization\n",
    "    \"depth\":4,\n",
    "#     train-Accuracy-mean      0.814132\n",
    "#     test-Accuracy-mean       0.808697\n",
    "    \"subsample\":0.8,\n",
    "    \"rsm\":0.7,\n",
    "    \"min_data_in_leaf\":50,\n",
    "    \n",
    "    #tree\n",
    "    \"grow_policy\":\"Depthwise\"\n",
    "    \n",
    "#     train-Accuracy-mean      0.841050\n",
    "#     test-Accuracy-mean       0.810077\n",
    "}\n",
    "ctb_train = ctb.Pool(train_X, train_y)\n",
    "ctb_result = ctb.cv(ctb_train, ctb_params, folds=fixed_skf, seed=42, verbose_eval=100,plot=False)\n",
    "ctb_params['iterations'] = ctb_result.iloc[-1,0]\n",
    "ctb_result.iloc[-1, [0,3, 1]]"
   ]
  },
  {
   "cell_type": "code",
   "execution_count": 223,
   "id": "c75276bf",
   "metadata": {},
   "outputs": [],
   "source": [
    "test_prep = prepare_data(test, do_1hot=True, X_only=True)"
   ]
  },
  {
   "cell_type": "markdown",
   "id": "23b81b8a",
   "metadata": {},
   "source": [
    "Kaggle score on LightGBM after specifying optimal n_iter: 0.80476"
   ]
  },
  {
   "cell_type": "markdown",
   "id": "d89b5f71",
   "metadata": {},
   "source": [
    "Kaggle XGBoost Score: 0.80804"
   ]
  },
  {
   "cell_type": "markdown",
   "id": "a1712d42",
   "metadata": {},
   "source": [
    "CatBoost: 0.8036"
   ]
  },
  {
   "cell_type": "markdown",
   "id": "b2ece7e7",
   "metadata": {},
   "source": [
    "## 1. Mean"
   ]
  },
  {
   "cell_type": "code",
   "execution_count": 224,
   "id": "32ef361b",
   "metadata": {},
   "outputs": [
    {
     "name": "stdout",
     "output_type": "stream",
     "text": [
      "[LightGBM] [Warning] num_threads is set=10, n_jobs=-1 will be ignored. Current value: num_threads=10\n",
      "[LightGBM] [Warning] num_threads is set=10, n_jobs=-1 will be ignored. Current value: num_threads=10\n",
      "[LightGBM] [Warning] num_threads is set=10, n_jobs=-1 will be ignored. Current value: num_threads=10\n",
      "[LightGBM] [Warning] num_threads is set=10, n_jobs=-1 will be ignored. Current value: num_threads=10\n"
     ]
    }
   ],
   "source": [
    "xgb_clf = xgb.XGBClassifier(**xgb_params)\n",
    "lgb_clf = lgb.LGBMClassifier(**lgb_params)\n",
    "ctb_clf = ctb.CatBoostClassifier(**ctb_params)\n",
    "xgb_cv_results = []\n",
    "lgb_cv_results = []\n",
    "ctb_cv_results = []\n",
    "valid_y_folds = []\n",
    "for train, valid in fixed_skf.split(train_X, train_y):\n",
    "    train_X_fold = train_X.iloc[train]\n",
    "    train_y_fold = train_y.iloc[train]\n",
    "    valid_X_fold = train_X.iloc[valid]\n",
    "    valid_y_fold = train_y.iloc[valid]\n",
    "    xgb_clf.fit(train_X_fold, train_y_fold)\n",
    "    lgb_clf.fit(train_X_fold, train_y_fold)\n",
    "    ctb_clf.fit(train_X_fold, train_y_fold)\n",
    "    xgb_cv_results += list(xgb_clf.predict_proba(valid_X_fold)[:, 1])\n",
    "    lgb_cv_results += list(lgb_clf.predict_proba(valid_X_fold)[:, 1])\n",
    "    ctb_cv_results += list(ctb_clf.predict_proba(valid_X_fold)[:, 1])\n",
    "    valid_y_folds += valid_y_fold.tolist()\n",
    "xgb_cv_results = np.array(xgb_cv_results)\n",
    "lgb_cv_results = np.array(lgb_cv_results)\n",
    "ctb_cv_results = np.array(ctb_cv_results)\n",
    "valid_y_folds = np.array(valid_y_folds)"
   ]
  },
  {
   "cell_type": "code",
   "execution_count": 225,
   "id": "3e64f326",
   "metadata": {},
   "outputs": [
    {
     "data": {
      "text/plain": [
       "'accuracy on cv: 0.8116875647072357'"
      ]
     },
     "execution_count": 225,
     "metadata": {},
     "output_type": "execute_result"
    }
   ],
   "source": [
    "mean = (xgb_cv_results*(1/3) + lgb_cv_results*(1/3) + ctb_cv_results*(1/3))\n",
    "'accuracy on cv: ' + str(accuracy_score(valid_y_folds, np.vectorize(lambda x: 1 if x > 0.5 else 0)(mean)))"
   ]
  },
  {
   "cell_type": "code",
   "execution_count": 226,
   "id": "537815fd",
   "metadata": {},
   "outputs": [
    {
     "data": {
      "text/html": [
       "<div>\n",
       "<style scoped>\n",
       "    .dataframe tbody tr th:only-of-type {\n",
       "        vertical-align: middle;\n",
       "    }\n",
       "\n",
       "    .dataframe tbody tr th {\n",
       "        vertical-align: top;\n",
       "    }\n",
       "\n",
       "    .dataframe thead th {\n",
       "        text-align: right;\n",
       "    }\n",
       "</style>\n",
       "<table border=\"1\" class=\"dataframe\">\n",
       "  <thead>\n",
       "    <tr style=\"text-align: right;\">\n",
       "      <th></th>\n",
       "      <th>HomePlanet_Earth</th>\n",
       "      <th>HomePlanet_Europa</th>\n",
       "      <th>HomePlanet_Mars</th>\n",
       "      <th>CryoSleep_True</th>\n",
       "      <th>Destination_55 Cancri e</th>\n",
       "      <th>Destination_PSO J318.5-22</th>\n",
       "      <th>Destination_TRAPPIST-1e</th>\n",
       "      <th>VIP_True</th>\n",
       "      <th>cabin_side_S</th>\n",
       "      <th>cabin_deck_A</th>\n",
       "      <th>...</th>\n",
       "      <th>cabin_deck_F</th>\n",
       "      <th>cabin_deck_G</th>\n",
       "      <th>cabin_deck_T</th>\n",
       "      <th>FoodCourt</th>\n",
       "      <th>VRDeck</th>\n",
       "      <th>Spa</th>\n",
       "      <th>Age</th>\n",
       "      <th>RoomService</th>\n",
       "      <th>ShoppingMall</th>\n",
       "      <th>cabin_num</th>\n",
       "    </tr>\n",
       "  </thead>\n",
       "  <tbody>\n",
       "    <tr>\n",
       "      <th>0</th>\n",
       "      <td>0.0</td>\n",
       "      <td>1.0</td>\n",
       "      <td>0.0</td>\n",
       "      <td>0.0</td>\n",
       "      <td>0.0</td>\n",
       "      <td>0.0</td>\n",
       "      <td>1.0</td>\n",
       "      <td>0.0</td>\n",
       "      <td>0.0</td>\n",
       "      <td>0.0</td>\n",
       "      <td>...</td>\n",
       "      <td>0.0</td>\n",
       "      <td>0.0</td>\n",
       "      <td>0.0</td>\n",
       "      <td>0.0</td>\n",
       "      <td>0.0</td>\n",
       "      <td>0.0</td>\n",
       "      <td>39.0</td>\n",
       "      <td>0.0</td>\n",
       "      <td>0.0</td>\n",
       "      <td>0.0</td>\n",
       "    </tr>\n",
       "    <tr>\n",
       "      <th>1</th>\n",
       "      <td>1.0</td>\n",
       "      <td>0.0</td>\n",
       "      <td>0.0</td>\n",
       "      <td>0.0</td>\n",
       "      <td>0.0</td>\n",
       "      <td>0.0</td>\n",
       "      <td>1.0</td>\n",
       "      <td>0.0</td>\n",
       "      <td>1.0</td>\n",
       "      <td>0.0</td>\n",
       "      <td>...</td>\n",
       "      <td>1.0</td>\n",
       "      <td>0.0</td>\n",
       "      <td>0.0</td>\n",
       "      <td>9.0</td>\n",
       "      <td>44.0</td>\n",
       "      <td>549.0</td>\n",
       "      <td>24.0</td>\n",
       "      <td>109.0</td>\n",
       "      <td>25.0</td>\n",
       "      <td>0.0</td>\n",
       "    </tr>\n",
       "    <tr>\n",
       "      <th>2</th>\n",
       "      <td>0.0</td>\n",
       "      <td>1.0</td>\n",
       "      <td>0.0</td>\n",
       "      <td>0.0</td>\n",
       "      <td>0.0</td>\n",
       "      <td>0.0</td>\n",
       "      <td>1.0</td>\n",
       "      <td>1.0</td>\n",
       "      <td>1.0</td>\n",
       "      <td>1.0</td>\n",
       "      <td>...</td>\n",
       "      <td>0.0</td>\n",
       "      <td>0.0</td>\n",
       "      <td>0.0</td>\n",
       "      <td>3576.0</td>\n",
       "      <td>49.0</td>\n",
       "      <td>6715.0</td>\n",
       "      <td>58.0</td>\n",
       "      <td>43.0</td>\n",
       "      <td>0.0</td>\n",
       "      <td>0.0</td>\n",
       "    </tr>\n",
       "    <tr>\n",
       "      <th>3</th>\n",
       "      <td>0.0</td>\n",
       "      <td>1.0</td>\n",
       "      <td>0.0</td>\n",
       "      <td>0.0</td>\n",
       "      <td>0.0</td>\n",
       "      <td>0.0</td>\n",
       "      <td>1.0</td>\n",
       "      <td>0.0</td>\n",
       "      <td>1.0</td>\n",
       "      <td>1.0</td>\n",
       "      <td>...</td>\n",
       "      <td>0.0</td>\n",
       "      <td>0.0</td>\n",
       "      <td>0.0</td>\n",
       "      <td>1283.0</td>\n",
       "      <td>193.0</td>\n",
       "      <td>3329.0</td>\n",
       "      <td>33.0</td>\n",
       "      <td>0.0</td>\n",
       "      <td>371.0</td>\n",
       "      <td>0.0</td>\n",
       "    </tr>\n",
       "    <tr>\n",
       "      <th>4</th>\n",
       "      <td>1.0</td>\n",
       "      <td>0.0</td>\n",
       "      <td>0.0</td>\n",
       "      <td>0.0</td>\n",
       "      <td>0.0</td>\n",
       "      <td>0.0</td>\n",
       "      <td>1.0</td>\n",
       "      <td>0.0</td>\n",
       "      <td>1.0</td>\n",
       "      <td>0.0</td>\n",
       "      <td>...</td>\n",
       "      <td>1.0</td>\n",
       "      <td>0.0</td>\n",
       "      <td>0.0</td>\n",
       "      <td>70.0</td>\n",
       "      <td>2.0</td>\n",
       "      <td>565.0</td>\n",
       "      <td>16.0</td>\n",
       "      <td>303.0</td>\n",
       "      <td>151.0</td>\n",
       "      <td>1.0</td>\n",
       "    </tr>\n",
       "    <tr>\n",
       "      <th>...</th>\n",
       "      <td>...</td>\n",
       "      <td>...</td>\n",
       "      <td>...</td>\n",
       "      <td>...</td>\n",
       "      <td>...</td>\n",
       "      <td>...</td>\n",
       "      <td>...</td>\n",
       "      <td>...</td>\n",
       "      <td>...</td>\n",
       "      <td>...</td>\n",
       "      <td>...</td>\n",
       "      <td>...</td>\n",
       "      <td>...</td>\n",
       "      <td>...</td>\n",
       "      <td>...</td>\n",
       "      <td>...</td>\n",
       "      <td>...</td>\n",
       "      <td>...</td>\n",
       "      <td>...</td>\n",
       "      <td>...</td>\n",
       "      <td>...</td>\n",
       "    </tr>\n",
       "    <tr>\n",
       "      <th>8688</th>\n",
       "      <td>0.0</td>\n",
       "      <td>1.0</td>\n",
       "      <td>0.0</td>\n",
       "      <td>0.0</td>\n",
       "      <td>1.0</td>\n",
       "      <td>0.0</td>\n",
       "      <td>0.0</td>\n",
       "      <td>1.0</td>\n",
       "      <td>0.0</td>\n",
       "      <td>1.0</td>\n",
       "      <td>...</td>\n",
       "      <td>0.0</td>\n",
       "      <td>0.0</td>\n",
       "      <td>0.0</td>\n",
       "      <td>6819.0</td>\n",
       "      <td>74.0</td>\n",
       "      <td>1643.0</td>\n",
       "      <td>41.0</td>\n",
       "      <td>0.0</td>\n",
       "      <td>0.0</td>\n",
       "      <td>98.0</td>\n",
       "    </tr>\n",
       "    <tr>\n",
       "      <th>8689</th>\n",
       "      <td>1.0</td>\n",
       "      <td>0.0</td>\n",
       "      <td>0.0</td>\n",
       "      <td>1.0</td>\n",
       "      <td>0.0</td>\n",
       "      <td>1.0</td>\n",
       "      <td>0.0</td>\n",
       "      <td>0.0</td>\n",
       "      <td>1.0</td>\n",
       "      <td>0.0</td>\n",
       "      <td>...</td>\n",
       "      <td>0.0</td>\n",
       "      <td>1.0</td>\n",
       "      <td>0.0</td>\n",
       "      <td>0.0</td>\n",
       "      <td>0.0</td>\n",
       "      <td>0.0</td>\n",
       "      <td>18.0</td>\n",
       "      <td>0.0</td>\n",
       "      <td>0.0</td>\n",
       "      <td>1499.0</td>\n",
       "    </tr>\n",
       "    <tr>\n",
       "      <th>8690</th>\n",
       "      <td>1.0</td>\n",
       "      <td>0.0</td>\n",
       "      <td>0.0</td>\n",
       "      <td>0.0</td>\n",
       "      <td>0.0</td>\n",
       "      <td>0.0</td>\n",
       "      <td>1.0</td>\n",
       "      <td>0.0</td>\n",
       "      <td>1.0</td>\n",
       "      <td>0.0</td>\n",
       "      <td>...</td>\n",
       "      <td>0.0</td>\n",
       "      <td>1.0</td>\n",
       "      <td>0.0</td>\n",
       "      <td>0.0</td>\n",
       "      <td>0.0</td>\n",
       "      <td>1.0</td>\n",
       "      <td>26.0</td>\n",
       "      <td>0.0</td>\n",
       "      <td>1872.0</td>\n",
       "      <td>1500.0</td>\n",
       "    </tr>\n",
       "    <tr>\n",
       "      <th>8691</th>\n",
       "      <td>0.0</td>\n",
       "      <td>1.0</td>\n",
       "      <td>0.0</td>\n",
       "      <td>0.0</td>\n",
       "      <td>1.0</td>\n",
       "      <td>0.0</td>\n",
       "      <td>0.0</td>\n",
       "      <td>0.0</td>\n",
       "      <td>1.0</td>\n",
       "      <td>0.0</td>\n",
       "      <td>...</td>\n",
       "      <td>0.0</td>\n",
       "      <td>0.0</td>\n",
       "      <td>0.0</td>\n",
       "      <td>1049.0</td>\n",
       "      <td>3235.0</td>\n",
       "      <td>353.0</td>\n",
       "      <td>32.0</td>\n",
       "      <td>0.0</td>\n",
       "      <td>0.0</td>\n",
       "      <td>608.0</td>\n",
       "    </tr>\n",
       "    <tr>\n",
       "      <th>8692</th>\n",
       "      <td>0.0</td>\n",
       "      <td>1.0</td>\n",
       "      <td>0.0</td>\n",
       "      <td>0.0</td>\n",
       "      <td>0.0</td>\n",
       "      <td>0.0</td>\n",
       "      <td>1.0</td>\n",
       "      <td>0.0</td>\n",
       "      <td>1.0</td>\n",
       "      <td>0.0</td>\n",
       "      <td>...</td>\n",
       "      <td>0.0</td>\n",
       "      <td>0.0</td>\n",
       "      <td>0.0</td>\n",
       "      <td>4688.0</td>\n",
       "      <td>12.0</td>\n",
       "      <td>0.0</td>\n",
       "      <td>44.0</td>\n",
       "      <td>126.0</td>\n",
       "      <td>0.0</td>\n",
       "      <td>608.0</td>\n",
       "    </tr>\n",
       "  </tbody>\n",
       "</table>\n",
       "<p>8693 rows × 24 columns</p>\n",
       "</div>"
      ],
      "text/plain": [
       "      HomePlanet_Earth  HomePlanet_Europa  HomePlanet_Mars  CryoSleep_True  \\\n",
       "0                  0.0                1.0              0.0             0.0   \n",
       "1                  1.0                0.0              0.0             0.0   \n",
       "2                  0.0                1.0              0.0             0.0   \n",
       "3                  0.0                1.0              0.0             0.0   \n",
       "4                  1.0                0.0              0.0             0.0   \n",
       "...                ...                ...              ...             ...   \n",
       "8688               0.0                1.0              0.0             0.0   \n",
       "8689               1.0                0.0              0.0             1.0   \n",
       "8690               1.0                0.0              0.0             0.0   \n",
       "8691               0.0                1.0              0.0             0.0   \n",
       "8692               0.0                1.0              0.0             0.0   \n",
       "\n",
       "      Destination_55 Cancri e  Destination_PSO J318.5-22  \\\n",
       "0                         0.0                        0.0   \n",
       "1                         0.0                        0.0   \n",
       "2                         0.0                        0.0   \n",
       "3                         0.0                        0.0   \n",
       "4                         0.0                        0.0   \n",
       "...                       ...                        ...   \n",
       "8688                      1.0                        0.0   \n",
       "8689                      0.0                        1.0   \n",
       "8690                      0.0                        0.0   \n",
       "8691                      1.0                        0.0   \n",
       "8692                      0.0                        0.0   \n",
       "\n",
       "      Destination_TRAPPIST-1e  VIP_True  cabin_side_S  cabin_deck_A  ...  \\\n",
       "0                         1.0       0.0           0.0           0.0  ...   \n",
       "1                         1.0       0.0           1.0           0.0  ...   \n",
       "2                         1.0       1.0           1.0           1.0  ...   \n",
       "3                         1.0       0.0           1.0           1.0  ...   \n",
       "4                         1.0       0.0           1.0           0.0  ...   \n",
       "...                       ...       ...           ...           ...  ...   \n",
       "8688                      0.0       1.0           0.0           1.0  ...   \n",
       "8689                      0.0       0.0           1.0           0.0  ...   \n",
       "8690                      1.0       0.0           1.0           0.0  ...   \n",
       "8691                      0.0       0.0           1.0           0.0  ...   \n",
       "8692                      1.0       0.0           1.0           0.0  ...   \n",
       "\n",
       "      cabin_deck_F  cabin_deck_G  cabin_deck_T  FoodCourt  VRDeck     Spa  \\\n",
       "0              0.0           0.0           0.0        0.0     0.0     0.0   \n",
       "1              1.0           0.0           0.0        9.0    44.0   549.0   \n",
       "2              0.0           0.0           0.0     3576.0    49.0  6715.0   \n",
       "3              0.0           0.0           0.0     1283.0   193.0  3329.0   \n",
       "4              1.0           0.0           0.0       70.0     2.0   565.0   \n",
       "...            ...           ...           ...        ...     ...     ...   \n",
       "8688           0.0           0.0           0.0     6819.0    74.0  1643.0   \n",
       "8689           0.0           1.0           0.0        0.0     0.0     0.0   \n",
       "8690           0.0           1.0           0.0        0.0     0.0     1.0   \n",
       "8691           0.0           0.0           0.0     1049.0  3235.0   353.0   \n",
       "8692           0.0           0.0           0.0     4688.0    12.0     0.0   \n",
       "\n",
       "       Age  RoomService  ShoppingMall  cabin_num  \n",
       "0     39.0          0.0           0.0        0.0  \n",
       "1     24.0        109.0          25.0        0.0  \n",
       "2     58.0         43.0           0.0        0.0  \n",
       "3     33.0          0.0         371.0        0.0  \n",
       "4     16.0        303.0         151.0        1.0  \n",
       "...    ...          ...           ...        ...  \n",
       "8688  41.0          0.0           0.0       98.0  \n",
       "8689  18.0          0.0           0.0     1499.0  \n",
       "8690  26.0          0.0        1872.0     1500.0  \n",
       "8691  32.0          0.0           0.0      608.0  \n",
       "8692  44.0        126.0           0.0      608.0  \n",
       "\n",
       "[8693 rows x 24 columns]"
      ]
     },
     "execution_count": 226,
     "metadata": {},
     "output_type": "execute_result"
    }
   ],
   "source": [
    "train_X"
   ]
  },
  {
   "cell_type": "code",
   "execution_count": 227,
   "id": "d045d1b0",
   "metadata": {},
   "outputs": [],
   "source": [
    "xgb_clf = xgb.XGBClassifier(**xgb_params)\n",
    "xgb_clf.fit(train_X, train_y)\n",
    "xgb_preds = xgb_clf.predict_proba(test_prep)[:, 1]"
   ]
  },
  {
   "cell_type": "code",
   "execution_count": 228,
   "id": "1e97cf87",
   "metadata": {},
   "outputs": [
    {
     "name": "stdout",
     "output_type": "stream",
     "text": [
      "[LightGBM] [Warning] num_threads is set=10, n_jobs=-1 will be ignored. Current value: num_threads=10\n"
     ]
    }
   ],
   "source": [
    "lgb_clf = lgb.LGBMClassifier(**lgb_params)\n",
    "lgb_clf.fit(train_X, train_y)\n",
    "lgb_preds = lgb_clf.predict_proba(test_prep)\n",
    "lgb_preds = lgb_preds[:, 1]"
   ]
  },
  {
   "cell_type": "code",
   "execution_count": 229,
   "id": "b941dcb9",
   "metadata": {},
   "outputs": [],
   "source": [
    "ctb_clf = ctb.CatBoostClassifier(**ctb_params)\n",
    "ctb_clf.fit(train_X, train_y)\n",
    "ctb_preds = ctb_clf.predict_proba(test_prep)\n",
    "ctb_preds = ctb_preds[:, 1]"
   ]
  },
  {
   "cell_type": "code",
   "execution_count": 230,
   "id": "c61951ab",
   "metadata": {},
   "outputs": [],
   "source": [
    "preds = xgb_preds*(1/3) + ctb_preds*(1/3) + lgb_preds*(1/3)"
   ]
  },
  {
   "cell_type": "code",
   "execution_count": 14,
   "id": "850420dd",
   "metadata": {},
   "outputs": [],
   "source": [
    "df = pd.DataFrame()\n",
    "df['Transported'] = np.vectorize(lambda p: 1 if p > 0.5 else 0)(preds).astype(bool)\n",
    "df.set_index(test.PassengerId, inplace=True)\n",
    "df.to_csv('spaceship_preds_ensemble_mean_3.csv')"
   ]
  },
  {
   "cell_type": "markdown",
   "id": "7fead6a1",
   "metadata": {},
   "source": [
    "Kaggle score: 0.80851"
   ]
  },
  {
   "cell_type": "code",
   "execution_count": 127,
   "id": "5b24b5e7",
   "metadata": {},
   "outputs": [
    {
     "data": {
      "text/plain": [
       "'accuracy on cv: 0.8107672840216266'"
      ]
     },
     "execution_count": 127,
     "metadata": {},
     "output_type": "execute_result"
    }
   ],
   "source": [
    "weighted_mean = (xgb_cv_results*(1/2) + lgb_cv_results*(1/8) + ctb_cv_results*(3/8))\n",
    "'accuracy on cv: ' + str(accuracy_score(valid_y_folds, np.vectorize(lambda x: 1 if x > 0.5 else 0)(weighted_mean)))"
   ]
  },
  {
   "cell_type": "code",
   "execution_count": 32,
   "id": "9c38002d",
   "metadata": {},
   "outputs": [],
   "source": [
    "preds = xgb_preds*(1/2) + ctb_preds*(1/8) + lgb_preds*(3/8)"
   ]
  },
  {
   "cell_type": "code",
   "execution_count": 16,
   "id": "52f8e120",
   "metadata": {},
   "outputs": [],
   "source": [
    "df = pd.DataFrame()\n",
    "df['Transported'] = np.vectorize(lambda p: 1 if p > 0.5 else 0)(preds).astype(bool)\n",
    "df.set_index(test.PassengerId, inplace=True)\n",
    "df.to_csv('spaceship_preds_ensemble_mean_3.csv')"
   ]
  },
  {
   "cell_type": "markdown",
   "id": "269ad4e7",
   "metadata": {},
   "source": [
    "Kaggle score: 0.81061"
   ]
  },
  {
   "cell_type": "markdown",
   "id": "5e6c53cb",
   "metadata": {},
   "source": [
    "## 2. Median"
   ]
  },
  {
   "cell_type": "code",
   "execution_count": 231,
   "id": "4dd17598",
   "metadata": {},
   "outputs": [
    {
     "data": {
      "text/plain": [
       "'accuracy on cv: 0.8116875647072357'"
      ]
     },
     "execution_count": 231,
     "metadata": {},
     "output_type": "execute_result"
    }
   ],
   "source": [
    "d = np.stack([xgb_cv_results, lgb_cv_results, ctb_cv_results])\n",
    "'accuracy on cv: ' + str(accuracy_score(valid_y_folds, np.vectorize(lambda x: 1 if x > 0.5 else 0)(np.median(d, axis = 0))))"
   ]
  },
  {
   "cell_type": "code",
   "execution_count": 37,
   "id": "87b9f5c6",
   "metadata": {},
   "outputs": [],
   "source": [
    "preds = np.median(np.c_[xgb_preds,ctb_preds,lgb_preds], axis=1)"
   ]
  },
  {
   "cell_type": "code",
   "execution_count": 18,
   "id": "3a853e93",
   "metadata": {},
   "outputs": [],
   "source": [
    "df = pd.DataFrame()\n",
    "df['Transported'] = np.vectorize(lambda p: 1 if p > 0.5 else 0)(preds).astype(bool)\n",
    "df.set_index(test.PassengerId, inplace=True)\n",
    "df.to_csv('spaceship_preds_ensemble_mean_3.csv')"
   ]
  },
  {
   "cell_type": "markdown",
   "id": "7c684d8d",
   "metadata": {},
   "source": [
    "Kaggle score: 0.81108"
   ]
  },
  {
   "cell_type": "markdown",
   "id": "336326f4",
   "metadata": {},
   "source": [
    "## 3. Stacking"
   ]
  },
  {
   "cell_type": "markdown",
   "id": "249dfcfb",
   "metadata": {},
   "source": [
    "1. Adding XGB, LGB and CTB preds to the Extra Trees"
   ]
  },
  {
   "cell_type": "code",
   "execution_count": 232,
   "id": "999ffd4a",
   "metadata": {},
   "outputs": [],
   "source": [
    "from sklearn.model_selection import cross_val_predict\n",
    "from sklearn.ensemble import ExtraTreesClassifier\n",
    "from sklearn.model_selection import GridSearchCV"
   ]
  },
  {
   "cell_type": "code",
   "execution_count": 233,
   "id": "26cf6a9c",
   "metadata": {},
   "outputs": [
    {
     "name": "stdout",
     "output_type": "stream",
     "text": [
      "[LightGBM] [Warning] num_threads is set=10, n_jobs=-1 will be ignored. Current value: num_threads=10\n",
      "[LightGBM] [Warning] num_threads is set=10, n_jobs=-1 will be ignored. Current value: num_threads=10\n",
      "[LightGBM] [Warning] num_threads is set=10, n_jobs=-1 will be ignored. Current value: num_threads=10\n",
      "[LightGBM] [Warning] num_threads is set=10, n_jobs=-1 will be ignored. Current value: num_threads=10\n",
      "[LightGBM] [Warning] num_threads is set=10, n_jobs=-1 will be ignored. Current value: num_threads=10\n"
     ]
    }
   ],
   "source": [
    "xgb_preds_train = cross_val_predict(xgb_clf, train_X, train_y, cv=fixed_skf, method='predict_proba')[:, 1]\n",
    "lgb_preds_train = cross_val_predict(lgb_clf, train_X, train_y, cv=fixed_skf, method='predict_proba')[:, 1]\n",
    "ctb_preds_train = cross_val_predict(ctb_clf, train_X, train_y, cv=fixed_skf, method='predict_proba')[:, 1]"
   ]
  },
  {
   "cell_type": "code",
   "execution_count": 234,
   "id": "b93e1deb",
   "metadata": {},
   "outputs": [],
   "source": [
    "train_X['ctb_preds'] = ctb_preds_train\n",
    "train_X['lgb_preds'] = lgb_preds_train\n",
    "train_X['xgb_preds'] = xgb_preds_train"
   ]
  },
  {
   "cell_type": "code",
   "execution_count": 235,
   "id": "b134c8de",
   "metadata": {},
   "outputs": [],
   "source": [
    "xgb_preds = xgb_clf.predict_proba(test_prep)[:, 1]\n",
    "lgb_preds = lgb_clf.predict_proba(test_prep)[:, 1]\n",
    "ctb_preds = ctb_clf.predict_proba(test_prep)[:, 1]\n",
    "test_prep['xgb_preds'] = xgb_preds\n",
    "test_prep['lgb_preds'] = lgb_preds\n",
    "test_prep['ctb_preds'] = ctb_preds"
   ]
  },
  {
   "cell_type": "code",
   "execution_count": 180,
   "id": "05c04bb4",
   "metadata": {},
   "outputs": [],
   "source": [
    "params = {'max_features': [6, 7, 8, 9, 10], 'min_samples_leaf': [ 6, 7, 8, 9, 10, 15], 'max_depth': [18, 19, 20, 21]}\n",
    "extra_trees = ExtraTreesClassifier(n_estimators=100, random_state=42)\n",
    "grid = GridSearchCV(extra_trees, params, cv=fixed_skf, verbose=3, scoring='accuracy')\n",
    "grid.fit(train_X, train_y)"
   ]
  },
  {
   "cell_type": "code",
   "execution_count": 168,
   "id": "287d21ca",
   "metadata": {},
   "outputs": [],
   "source": [
    "grid.best_estimator_.fit(train_X, train_y)\n",
    "df = pd.DataFrame()\n",
    "df['Transported'] = grid.best_estimator_.predict(test_prep[train_X.columns]).astype(bool)\n",
    "df.set_index(test.PassengerId, inplace=True)\n",
    "df.to_csv('kaggle.csv')"
   ]
  },
  {
   "cell_type": "markdown",
   "id": "2911e09d",
   "metadata": {},
   "source": [
    "LGB, kaggle score: 0.80056\n",
    "<br>cv score: 0.8134133276336346"
   ]
  },
  {
   "cell_type": "markdown",
   "id": "60233046",
   "metadata": {},
   "source": [
    "XGB, kaggle score: 0.80032\n",
    "<br>cv score: 0.8155981606560655"
   ]
  },
  {
   "cell_type": "markdown",
   "id": "5dc13fb9",
   "metadata": {},
   "source": [
    "XGB+LGB, kaggle score: 0.80032, <br> cv score: 0.8154843431439176"
   ]
  },
  {
   "cell_type": "markdown",
   "id": "5e8c8b5e",
   "metadata": {},
   "source": [
    "XGB+LGB+CTB, Kaggle score: 0.80173, <br>       cv score: 0.8155992194236201"
   ]
  },
  {
   "cell_type": "markdown",
   "id": "a0a166c7",
   "metadata": {},
   "source": [
    "2. Adding overfitted XGB, LGB, CTB:"
   ]
  },
  {
   "cell_type": "code",
   "execution_count": 236,
   "id": "8c1be411",
   "metadata": {},
   "outputs": [],
   "source": [
    "cols = ['HomePlanet_Earth', 'HomePlanet_Europa', 'HomePlanet_Mars',\n",
    "       'CryoSleep_True', 'Destination_55 Cancri e',\n",
    "       'Destination_PSO J318.5-22', 'Destination_TRAPPIST-1e', 'VIP_True',\n",
    "       'cabin_side_S', 'cabin_deck_A', 'cabin_deck_B', 'cabin_deck_C',\n",
    "       'cabin_deck_D', 'cabin_deck_E', 'cabin_deck_F', 'cabin_deck_G',\n",
    "       'cabin_deck_T', 'FoodCourt', 'VRDeck', 'Spa', 'Age', 'RoomService',\n",
    "       'ShoppingMall', 'cabin_num']"
   ]
  },
  {
   "cell_type": "code",
   "execution_count": 237,
   "id": "d90ae313",
   "metadata": {},
   "outputs": [
    {
     "name": "stderr",
     "output_type": "stream",
     "text": [
      "C:\\Users\\ASUS\\machine_learning_projector\\venv\\lib\\site-packages\\lightgbm\\engine.py:573: UserWarning: Found `n_estimators` in params. Will use it instead of argument\n",
      "  _log_warning(f\"Found `{alias}` in params. Will use it instead of argument\")\n"
     ]
    },
    {
     "name": "stdout",
     "output_type": "stream",
     "text": [
      "Training until validation scores don't improve for 10 rounds\n",
      "[10]\tcv_agg's train binary_error: 0.00359486 + 0.00028779\tcv_agg's valid binary_error: 0.212011 + 0.00733137\n",
      "[20]\tcv_agg's train binary_error: 0.00181183 + 0.000469142\tcv_agg's valid binary_error: 0.205568 + 0.00486779\n",
      "[30]\tcv_agg's train binary_error: 0.00129416 + 0.000301685\tcv_agg's valid binary_error: 0.203268 + 0.00322293\n",
      "[40]\tcv_agg's train binary_error: 0.00129416 + 0.000301685\tcv_agg's valid binary_error: 0.199586 + 0.00406748\n",
      "[50]\tcv_agg's train binary_error: 0.00129416 + 0.000301685\tcv_agg's valid binary_error: 0.198665 + 0.0044827\n",
      "[60]\tcv_agg's train binary_error: 0.00129416 + 0.000301685\tcv_agg's valid binary_error: 0.198896 + 0.00580805\n",
      "Early stopping, best iteration is:\n",
      "[51]\tcv_agg's train binary_error: 0.00129416 + 0.000301685\tcv_agg's valid binary_error: 0.19694 + 0.00522694\n"
     ]
    }
   ],
   "source": [
    "import lightgbm as lgb\n",
    "lgb_params = {\n",
    "    \"objective\": \"binary\",\n",
    "    \"learning_rate\": 0.1,\n",
    "    \"num_threads\": 10,\n",
    "    \"metric\": \"binary_error\",\n",
    "    \"seed\": 42,\n",
    "   \"verbose\":-1,\n",
    "    \n",
    "    #eta 0.01 ('train: 0.8085527468480869', 'valid: 0.7939731642128626')\n",
    "    #eta 0.03 ('train: 0.8322500349942634', 'valid: 0.8069714549649911')\n",
    "    \n",
    "     #regularization\n",
    "    \"max_depth\":25,\n",
    "    \"colsample_bytree\": 0.8,\n",
    "    \"subsample\": 0.8,\n",
    "    #('train: 0.8471183562848146', 'valid: 0.8108826746585971')\n",
    "    \"subsample_freq\": 1,\n",
    "    \"min_data_in_leaf\": 1,\n",
    "    #('train: 0.8432359386639986', 'valid: 0.8141035779064327')\n",
    "    \"num_leaves\":1000,\n",
    "#     #('train: 0.8392384710701339', 'valid: 0.8137586182024641')\n",
    "    \n",
    "    \"n_estimators\":10_000\n",
    "    \n",
    "    #categorical features\n",
    "#     'cat_smooth': 5,\n",
    "#     'min_data_per_group': 2\n",
    "#     did not improve the results\n",
    "    \n",
    "}\n",
    "lgb_train = lgb.Dataset(train_X[cols], label=train_y, free_raw_data=False)\n",
    "lgb_result_overfitted = lgb.cv(lgb_params, lgb_train, 10_000, folds=fixed_skf, callbacks=[lgb.early_stopping(10), lgb.log_evaluation(10)], eval_train_metric=True, return_cvbooster=True)\n",
    "lgb_params['n_estimators'] = lgb_result_overfitted[\"cvbooster\"].best_iteration"
   ]
  },
  {
   "cell_type": "code",
   "execution_count": 238,
   "id": "44be49a1",
   "metadata": {},
   "outputs": [
    {
     "name": "stdout",
     "output_type": "stream",
     "text": [
      "[LightGBM] [Warning] min_data_in_leaf is set=1, min_child_samples=20 will be ignored. Current value: min_data_in_leaf=1\n",
      "[LightGBM] [Warning] num_threads is set=10, n_jobs=-1 will be ignored. Current value: num_threads=10\n",
      "[LightGBM] [Warning] min_data_in_leaf is set=1, min_child_samples=20 will be ignored. Current value: min_data_in_leaf=1\n",
      "[LightGBM] [Warning] num_threads is set=10, n_jobs=-1 will be ignored. Current value: num_threads=10\n",
      "[LightGBM] [Warning] min_data_in_leaf is set=1, min_child_samples=20 will be ignored. Current value: min_data_in_leaf=1\n",
      "[LightGBM] [Warning] num_threads is set=10, n_jobs=-1 will be ignored. Current value: num_threads=10\n",
      "[LightGBM] [Warning] min_data_in_leaf is set=1, min_child_samples=20 will be ignored. Current value: min_data_in_leaf=1\n",
      "[LightGBM] [Warning] num_threads is set=10, n_jobs=-1 will be ignored. Current value: num_threads=10\n",
      "[LightGBM] [Warning] min_data_in_leaf is set=1, min_child_samples=20 will be ignored. Current value: min_data_in_leaf=1\n",
      "[LightGBM] [Warning] num_threads is set=10, n_jobs=-1 will be ignored. Current value: num_threads=10\n"
     ]
    }
   ],
   "source": [
    "lgb_clf = lgb.LGBMClassifier(**lgb_params)\n",
    "lgb_preds_train = cross_val_predict(lgb_clf, train_X[cols], train_y, cv=fixed_skf, method='predict_proba')[:, 1]\n",
    "lgb_clf.fit(train_X[cols], train_y)\n",
    "lgb_preds_test = lgb_clf.predict_proba(test_prep[cols])[:, 1]"
   ]
  },
  {
   "cell_type": "code",
   "execution_count": 239,
   "id": "28d665f0",
   "metadata": {},
   "outputs": [],
   "source": [
    "train_X['lgb_overfit'] = lgb_preds_train\n",
    "test_prep['lgb_overfit'] = lgb_preds_test"
   ]
  },
  {
   "cell_type": "code",
   "execution_count": 245,
   "id": "482d2b2f",
   "metadata": {
    "scrolled": false
   },
   "outputs": [
    {
     "name": "stdout",
     "output_type": "stream",
     "text": [
      "[0]\ttrain-error:0.12093+0.00152\ttest-error:0.23340+0.00955\n",
      "[10]\ttrain-error:0.06215+0.00336\ttest-error:0.19590+0.00284\n",
      "[20]\ttrain-error:0.03857+0.00248\ttest-error:0.19475+0.00155\n",
      "[30]\ttrain-error:0.02344+0.00141\ttest-error:0.19464+0.00390\n",
      "[36]\ttrain-error:0.01720+0.00132\ttest-error:0.19395+0.00495\n"
     ]
    },
    {
     "data": {
      "text/plain": [
       "train-error-mean    0.972765\n",
       "test-error-mean     0.807777\n",
       "Name: 27, dtype: float64"
      ]
     },
     "execution_count": 245,
     "metadata": {},
     "output_type": "execute_result"
    }
   ],
   "source": [
    "xgb_params = {\n",
    "    #default\n",
    "    \"objective\": \"binary:logistic\",\n",
    "    \"eta\": 0.1,\n",
    "    \"verbosity\": 0,\n",
    "    \"nthread\": 4,\n",
    "    \"random_seed\": 1,\n",
    "    \"eval_metric\": \"error\",\n",
    "    #train-error-mean    0.861325\n",
    "    #test-error-mean     0.810883\n",
    "    \n",
    "    #eta = 0.01 test 0.78, train 80.5\n",
    "    \n",
    "    # regularization parameters\n",
    "    \"max_depth\": 100,\n",
    "    \"max_leaves\": 0,\n",
    "    \"min_child_weight\":1,\n",
    "    \"subsample\": 0.9,\n",
    "    \"colsample_bytree\": 0.9,\n",
    "    \"n_estimators\": 10_000\n",
    "    \n",
    "    #train-error-mean    0.848240\n",
    "    #test-error-mean     0.811689\n",
    "    \n",
    "#    \"tree_method\": \"hist\",    \n",
    "#    \"grow_policy\": \"lossguide\"\n",
    "#     train-error-mean    0.827677\n",
    "#     test-error-mean     0.807776\n",
    "}\n",
    "xgb_train = xgb.DMatrix(train_X[cols], train_y, feature_names=cols)\n",
    "result = xgb.cv(xgb_params, xgb_train, folds=fixed_skf, num_boost_round=10_000, early_stopping_rounds=10, verbose_eval=10)\n",
    "xgb_params['n_estimators'] = list(result['test-error-mean']).index(min(list(result['test-error-mean'])))\n",
    "1-result.iloc[-1, [0, 2]]"
   ]
  },
  {
   "cell_type": "code",
   "execution_count": 246,
   "id": "be7543ef",
   "metadata": {},
   "outputs": [],
   "source": [
    "xgb_clf = xgb.XGBClassifier(**xgb_params)\n",
    "xgb_overfit_train = cross_val_predict(xgb_clf, train_X[cols], train_y, cv=fixed_skf, method='predict_proba')[:, 1]\n",
    "xgb_clf.fit(train_X[cols], train_y)\n",
    "xgb_overfit_test = xgb_clf.predict_proba(test_prep[cols])[:,1]"
   ]
  },
  {
   "cell_type": "code",
   "execution_count": 247,
   "id": "f5db7d51",
   "metadata": {},
   "outputs": [],
   "source": [
    "train_X['xgb_overfit'] = xgb_overfit_train\n",
    "test_prep['xgb_overfit'] = xgb_overfit_test"
   ]
  },
  {
   "cell_type": "code",
   "execution_count": 248,
   "id": "989d8473",
   "metadata": {},
   "outputs": [
    {
     "data": {
      "text/plain": [
       "118"
      ]
     },
     "execution_count": 248,
     "metadata": {},
     "output_type": "execute_result"
    }
   ],
   "source": [
    "import catboost as ctb\n",
    "ctb_params = {\n",
    "    \"loss_function\": \"Logloss\",\n",
    "    \"eval_metric\": \"Accuracy\",\n",
    "    \"iterations\": 1000,\n",
    "    \"learning_rate\": 0.1,\n",
    "    \"random_seed\": 42,\n",
    "    \"od_wait\": 30,\n",
    "    \"od_type\": \"Iter\",\n",
    "    \"thread_count\": 10,\n",
    "    \"logging_level\":\"Silent\",\n",
    "    \n",
    "#     train-Accuracy-mean      0.817439\n",
    "#     test-Accuracy-mean       0.806167\n",
    "    \n",
    "    #regularization\n",
    "    \"depth\":16,\n",
    "#     train-Accuracy-mean      0.814132\n",
    "#     test-Accuracy-mean       0.808697\n",
    "    \"subsample\":0.8,\n",
    "    \"rsm\":0.7,\n",
    "    \"min_data_in_leaf\":1,\n",
    "    \n",
    "    #tree\n",
    "    \"grow_policy\":\"Depthwise\"\n",
    "    \n",
    "#     train-Accuracy-mean      0.841050\n",
    "#     test-Accuracy-mean       0.810077\n",
    "}\n",
    "ctb_train = ctb.Pool(train_X[cols], train_y)\n",
    "result = ctb.cv(ctb_train, ctb_params, folds=fixed_skf, seed=42, verbose_eval=100,plot=False)\n",
    "# result.iloc[-1, [0,3, 1]]\n",
    "ctb_params['iterations'] = result.iloc[-1,0]\n",
    "result.iloc[-1,0]"
   ]
  },
  {
   "cell_type": "code",
   "execution_count": 249,
   "id": "e8a55ac2",
   "metadata": {},
   "outputs": [
    {
     "data": {
      "text/plain": [
       "test-Accuracy-mean     0.806511\n",
       "train-Accuracy-mean    0.979035\n",
       "Name: 118, dtype: float64"
      ]
     },
     "execution_count": 249,
     "metadata": {},
     "output_type": "execute_result"
    }
   ],
   "source": [
    "result.iloc[-1, [1, 3]]"
   ]
  },
  {
   "cell_type": "code",
   "execution_count": 250,
   "id": "865874b8",
   "metadata": {},
   "outputs": [],
   "source": [
    "ctb_clf = ctb.CatBoostClassifier(**ctb_params)\n",
    "ctb_preds_train = cross_val_predict(ctb_clf, train_X[cols], train_y, cv=fixed_skf, method='predict_proba')[:, 1]\n",
    "\n",
    "ctb_clf.fit(train_X[cols], train_y)\n",
    "ctb_preds_test = ctb_clf.predict_proba(test_prep[cols])[:, 1]\n",
    "\n",
    "train_X['ctb_overfit'] = ctb_preds_train\n",
    "test_prep['ctb_overfit'] = ctb_preds_test"
   ]
  },
  {
   "cell_type": "code",
   "execution_count": 253,
   "id": "4d57cce9",
   "metadata": {},
   "outputs": [],
   "source": [
    "logistic = LogisticRegression(penalty='l2',\n",
    "                                C=0.01,\n",
    "                              class_weight='balanced',\n",
    "                              random_state=42,\n",
    "                              max_iter=1000\n",
    "                                )\n",
    "preds = cross_val_predict(logistic, train_X[cols], train_y, cv=fixed_skf, method='predict_proba')[:, 1]\n",
    "train_X['logistic_reg'] = preds\n",
    "logistic.fit(train_X[cols], train_y)\n",
    "test_prep['logistic_reg'] = logistic.predict_proba(test_prep[cols])[:, 1]"
   ]
  },
  {
   "cell_type": "code",
   "execution_count": 254,
   "id": "2f9487c8",
   "metadata": {},
   "outputs": [
    {
     "data": {
      "text/plain": [
       "'accuracy on cv: 0.796157828137582'"
      ]
     },
     "execution_count": 254,
     "metadata": {},
     "output_type": "execute_result"
    }
   ],
   "source": [
    "'accuracy on cv: ' + str(accuracy_score(train_y, np.vectorize(lambda x: 1 if x > 0.5 else 0)(preds)))"
   ]
  },
  {
   "cell_type": "code",
   "execution_count": 255,
   "id": "a1e49ab9",
   "metadata": {},
   "outputs": [
    {
     "data": {
      "text/html": [
       "<style>#sk-container-id-12 {color: black;background-color: white;}#sk-container-id-12 pre{padding: 0;}#sk-container-id-12 div.sk-toggleable {background-color: white;}#sk-container-id-12 label.sk-toggleable__label {cursor: pointer;display: block;width: 100%;margin-bottom: 0;padding: 0.3em;box-sizing: border-box;text-align: center;}#sk-container-id-12 label.sk-toggleable__label-arrow:before {content: \"▸\";float: left;margin-right: 0.25em;color: #696969;}#sk-container-id-12 label.sk-toggleable__label-arrow:hover:before {color: black;}#sk-container-id-12 div.sk-estimator:hover label.sk-toggleable__label-arrow:before {color: black;}#sk-container-id-12 div.sk-toggleable__content {max-height: 0;max-width: 0;overflow: hidden;text-align: left;background-color: #f0f8ff;}#sk-container-id-12 div.sk-toggleable__content pre {margin: 0.2em;color: black;border-radius: 0.25em;background-color: #f0f8ff;}#sk-container-id-12 input.sk-toggleable__control:checked~div.sk-toggleable__content {max-height: 200px;max-width: 100%;overflow: auto;}#sk-container-id-12 input.sk-toggleable__control:checked~label.sk-toggleable__label-arrow:before {content: \"▾\";}#sk-container-id-12 div.sk-estimator input.sk-toggleable__control:checked~label.sk-toggleable__label {background-color: #d4ebff;}#sk-container-id-12 div.sk-label input.sk-toggleable__control:checked~label.sk-toggleable__label {background-color: #d4ebff;}#sk-container-id-12 input.sk-hidden--visually {border: 0;clip: rect(1px 1px 1px 1px);clip: rect(1px, 1px, 1px, 1px);height: 1px;margin: -1px;overflow: hidden;padding: 0;position: absolute;width: 1px;}#sk-container-id-12 div.sk-estimator {font-family: monospace;background-color: #f0f8ff;border: 1px dotted black;border-radius: 0.25em;box-sizing: border-box;margin-bottom: 0.5em;}#sk-container-id-12 div.sk-estimator:hover {background-color: #d4ebff;}#sk-container-id-12 div.sk-parallel-item::after {content: \"\";width: 100%;border-bottom: 1px solid gray;flex-grow: 1;}#sk-container-id-12 div.sk-label:hover label.sk-toggleable__label {background-color: #d4ebff;}#sk-container-id-12 div.sk-serial::before {content: \"\";position: absolute;border-left: 1px solid gray;box-sizing: border-box;top: 0;bottom: 0;left: 50%;z-index: 0;}#sk-container-id-12 div.sk-serial {display: flex;flex-direction: column;align-items: center;background-color: white;padding-right: 0.2em;padding-left: 0.2em;position: relative;}#sk-container-id-12 div.sk-item {position: relative;z-index: 1;}#sk-container-id-12 div.sk-parallel {display: flex;align-items: stretch;justify-content: center;background-color: white;position: relative;}#sk-container-id-12 div.sk-item::before, #sk-container-id-12 div.sk-parallel-item::before {content: \"\";position: absolute;border-left: 1px solid gray;box-sizing: border-box;top: 0;bottom: 0;left: 50%;z-index: -1;}#sk-container-id-12 div.sk-parallel-item {display: flex;flex-direction: column;z-index: 1;position: relative;background-color: white;}#sk-container-id-12 div.sk-parallel-item:first-child::after {align-self: flex-end;width: 50%;}#sk-container-id-12 div.sk-parallel-item:last-child::after {align-self: flex-start;width: 50%;}#sk-container-id-12 div.sk-parallel-item:only-child::after {width: 0;}#sk-container-id-12 div.sk-dashed-wrapped {border: 1px dashed gray;margin: 0 0.4em 0.5em 0.4em;box-sizing: border-box;padding-bottom: 0.4em;background-color: white;}#sk-container-id-12 div.sk-label label {font-family: monospace;font-weight: bold;display: inline-block;line-height: 1.2em;}#sk-container-id-12 div.sk-label-container {text-align: center;}#sk-container-id-12 div.sk-container {/* jupyter's `normalize.less` sets `[hidden] { display: none; }` but bootstrap.min.css set `[hidden] { display: none !important; }` so we also need the `!important` here to be able to override the default hidden behavior on the sphinx rendered scikit-learn.org. See: https://github.com/scikit-learn/scikit-learn/issues/21755 */display: inline-block !important;position: relative;}#sk-container-id-12 div.sk-text-repr-fallback {display: none;}</style><div id=\"sk-container-id-12\" class=\"sk-top-container\"><div class=\"sk-text-repr-fallback\"><pre>GridSearchCV(cv=StratifiedKFold(n_splits=5, random_state=127, shuffle=True),\n",
       "             estimator=ExtraTreesClassifier(random_state=42),\n",
       "             param_grid={&#x27;max_depth&#x27;: [20, 21], &#x27;max_features&#x27;: [7, 8, 9],\n",
       "                         &#x27;min_samples_leaf&#x27;: [5, 6, 7, 8]},\n",
       "             scoring=&#x27;accuracy&#x27;)</pre><b>In a Jupyter environment, please rerun this cell to show the HTML representation or trust the notebook. <br />On GitHub, the HTML representation is unable to render, please try loading this page with nbviewer.org.</b></div><div class=\"sk-container\" hidden><div class=\"sk-item sk-dashed-wrapped\"><div class=\"sk-label-container\"><div class=\"sk-label sk-toggleable\"><input class=\"sk-toggleable__control sk-hidden--visually\" id=\"sk-estimator-id-30\" type=\"checkbox\" ><label for=\"sk-estimator-id-30\" class=\"sk-toggleable__label sk-toggleable__label-arrow\">GridSearchCV</label><div class=\"sk-toggleable__content\"><pre>GridSearchCV(cv=StratifiedKFold(n_splits=5, random_state=127, shuffle=True),\n",
       "             estimator=ExtraTreesClassifier(random_state=42),\n",
       "             param_grid={&#x27;max_depth&#x27;: [20, 21], &#x27;max_features&#x27;: [7, 8, 9],\n",
       "                         &#x27;min_samples_leaf&#x27;: [5, 6, 7, 8]},\n",
       "             scoring=&#x27;accuracy&#x27;)</pre></div></div></div><div class=\"sk-parallel\"><div class=\"sk-parallel-item\"><div class=\"sk-item\"><div class=\"sk-label-container\"><div class=\"sk-label sk-toggleable\"><input class=\"sk-toggleable__control sk-hidden--visually\" id=\"sk-estimator-id-31\" type=\"checkbox\" ><label for=\"sk-estimator-id-31\" class=\"sk-toggleable__label sk-toggleable__label-arrow\">estimator: ExtraTreesClassifier</label><div class=\"sk-toggleable__content\"><pre>ExtraTreesClassifier(random_state=42)</pre></div></div></div><div class=\"sk-serial\"><div class=\"sk-item\"><div class=\"sk-estimator sk-toggleable\"><input class=\"sk-toggleable__control sk-hidden--visually\" id=\"sk-estimator-id-32\" type=\"checkbox\" ><label for=\"sk-estimator-id-32\" class=\"sk-toggleable__label sk-toggleable__label-arrow\">ExtraTreesClassifier</label><div class=\"sk-toggleable__content\"><pre>ExtraTreesClassifier(random_state=42)</pre></div></div></div></div></div></div></div></div></div></div>"
      ],
      "text/plain": [
       "GridSearchCV(cv=StratifiedKFold(n_splits=5, random_state=127, shuffle=True),\n",
       "             estimator=ExtraTreesClassifier(random_state=42),\n",
       "             param_grid={'max_depth': [20, 21], 'max_features': [7, 8, 9],\n",
       "                         'min_samples_leaf': [5, 6, 7, 8]},\n",
       "             scoring='accuracy')"
      ]
     },
     "execution_count": 255,
     "metadata": {},
     "output_type": "execute_result"
    }
   ],
   "source": [
    "params = {'max_features': [ 7, 8, 9], 'min_samples_leaf': [5, 6, 7, 8], 'max_depth': [20, 21]}\n",
    "extra_trees = ExtraTreesClassifier(n_estimators=100, random_state=42)\n",
    "grid = GridSearchCV(extra_trees, params, cv=fixed_skf, verbose=0, scoring='accuracy')\n",
    "grid.fit(train_X[test_prep.columns], train_y)"
   ]
  },
  {
   "cell_type": "code",
   "execution_count": 256,
   "id": "ccff772f",
   "metadata": {},
   "outputs": [
    {
     "data": {
      "text/plain": [
       "0.8189344033944088"
      ]
     },
     "execution_count": 256,
     "metadata": {},
     "output_type": "execute_result"
    }
   ],
   "source": [
    "grid.best_score_"
   ]
  },
  {
   "cell_type": "code",
   "execution_count": 257,
   "id": "b76bbf20",
   "metadata": {},
   "outputs": [
    {
     "data": {
      "text/plain": [
       "{'max_depth': 21, 'max_features': 9, 'min_samples_leaf': 6}"
      ]
     },
     "execution_count": 257,
     "metadata": {},
     "output_type": "execute_result"
    }
   ],
   "source": [
    "grid.best_params_"
   ]
  },
  {
   "cell_type": "code",
   "execution_count": 258,
   "id": "9ab2fe01",
   "metadata": {},
   "outputs": [],
   "source": [
    "# grid.best_estimator_.fit(train_X, train_y)\n",
    "df = pd.DataFrame()\n",
    "df['Transported'] = grid.best_estimator_.predict(test_prep).astype(bool)\n",
    "df.set_index(test.PassengerId, inplace=True)\n",
    "df.to_csv('spaceship_preds_ensemble_mean_3.csv')"
   ]
  },
  {
   "cell_type": "markdown",
   "id": "4de2e87e",
   "metadata": {},
   "source": [
    "Kaggle score: 0.80079\n",
    "<br> cv score: 0.8189344033944088"
   ]
  },
  {
   "cell_type": "markdown",
   "id": "82d4809f",
   "metadata": {},
   "source": [
    "3. Adding underfitted logistic regressions:"
   ]
  },
  {
   "cell_type": "code",
   "execution_count": 264,
   "id": "779adab6",
   "metadata": {},
   "outputs": [],
   "source": [
    "logistic = LogisticRegression(C=0.00000000001)\n",
    "logistic_severely_underfit_train = cross_val_predict(logistic, train_X[cols], train_y, method='predict_proba', cv=fixed_skf)[:, 1]\n",
    "logistic.fit(train_X[cols], train_y)\n",
    "logistic_severely_underfit_test = logistic.predict_proba(test_prep[cols])[:,1]\n",
    "train_X['logistic_severely_underfit'] = logistic_severely_underfit_train\n",
    "test_prep['logistic_severely_underfit'] = logistic_severely_underfit_test"
   ]
  },
  {
   "cell_type": "code",
   "execution_count": 265,
   "id": "cc38fe0b",
   "metadata": {},
   "outputs": [
    {
     "data": {
      "text/plain": [
       "0.5497526745657425"
      ]
     },
     "execution_count": 265,
     "metadata": {},
     "output_type": "execute_result"
    }
   ],
   "source": [
    "accuracy_score(train_y, np.vectorize(lambda p: 1 if p>0.5 else 0)(logistic_severely_underfit_train))"
   ]
  },
  {
   "cell_type": "code",
   "execution_count": 266,
   "id": "a9d83038",
   "metadata": {},
   "outputs": [],
   "source": [
    "logistic = LogisticRegression(C=0.0000001)\n",
    "logistic_severely_underfit_train = cross_val_predict(logistic, train_X[cols], train_y, cv=fixed_skf, method='predict_proba')[:, 1]\n",
    "logistic.fit(train_X[cols], train_y)\n",
    "logistic_severely_underfit_test = logistic.predict_proba(test_prep[cols])[:,1]\n",
    "train_X['logistic_underfit'] = logistic_severely_underfit_train\n",
    "test_prep['logistic_underfit'] = logistic_severely_underfit_test"
   ]
  },
  {
   "cell_type": "code",
   "execution_count": 267,
   "id": "8402df72",
   "metadata": {},
   "outputs": [
    {
     "data": {
      "text/plain": [
       "0.7728057057402508"
      ]
     },
     "execution_count": 267,
     "metadata": {},
     "output_type": "execute_result"
    }
   ],
   "source": [
    "accuracy_score(train_y, np.vectorize(lambda p: 1 if p>0.5 else 0)(logistic_severely_underfit_train))"
   ]
  },
  {
   "cell_type": "code",
   "execution_count": 268,
   "id": "d235e091",
   "metadata": {},
   "outputs": [
    {
     "data": {
      "text/html": [
       "<div>\n",
       "<style scoped>\n",
       "    .dataframe tbody tr th:only-of-type {\n",
       "        vertical-align: middle;\n",
       "    }\n",
       "\n",
       "    .dataframe tbody tr th {\n",
       "        vertical-align: top;\n",
       "    }\n",
       "\n",
       "    .dataframe thead th {\n",
       "        text-align: right;\n",
       "    }\n",
       "</style>\n",
       "<table border=\"1\" class=\"dataframe\">\n",
       "  <thead>\n",
       "    <tr style=\"text-align: right;\">\n",
       "      <th></th>\n",
       "      <th>HomePlanet_Earth</th>\n",
       "      <th>HomePlanet_Europa</th>\n",
       "      <th>HomePlanet_Mars</th>\n",
       "      <th>CryoSleep_True</th>\n",
       "      <th>Destination_55 Cancri e</th>\n",
       "      <th>Destination_PSO J318.5-22</th>\n",
       "      <th>Destination_TRAPPIST-1e</th>\n",
       "      <th>VIP_True</th>\n",
       "      <th>cabin_side_S</th>\n",
       "      <th>cabin_deck_A</th>\n",
       "      <th>...</th>\n",
       "      <th>cabin_num</th>\n",
       "      <th>ctb_preds</th>\n",
       "      <th>lgb_preds</th>\n",
       "      <th>xgb_preds</th>\n",
       "      <th>lgb_overfit</th>\n",
       "      <th>xgb_overfit</th>\n",
       "      <th>ctb_overfit</th>\n",
       "      <th>logistic_reg</th>\n",
       "      <th>logistic_severely_underfit</th>\n",
       "      <th>logistic_underfit</th>\n",
       "    </tr>\n",
       "  </thead>\n",
       "  <tbody>\n",
       "    <tr>\n",
       "      <th>0</th>\n",
       "      <td>0.0</td>\n",
       "      <td>1.0</td>\n",
       "      <td>0.0</td>\n",
       "      <td>0.0</td>\n",
       "      <td>0.0</td>\n",
       "      <td>0.0</td>\n",
       "      <td>1.0</td>\n",
       "      <td>0.0</td>\n",
       "      <td>0.0</td>\n",
       "      <td>0.0</td>\n",
       "      <td>...</td>\n",
       "      <td>0.0</td>\n",
       "      <td>0.733904</td>\n",
       "      <td>0.754392</td>\n",
       "      <td>0.698305</td>\n",
       "      <td>0.743251</td>\n",
       "      <td>0.374629</td>\n",
       "      <td>0.395169</td>\n",
       "      <td>0.761902</td>\n",
       "      <td>0.500000</td>\n",
       "      <td>0.722113</td>\n",
       "    </tr>\n",
       "    <tr>\n",
       "      <th>1</th>\n",
       "      <td>1.0</td>\n",
       "      <td>0.0</td>\n",
       "      <td>0.0</td>\n",
       "      <td>0.0</td>\n",
       "      <td>0.0</td>\n",
       "      <td>0.0</td>\n",
       "      <td>1.0</td>\n",
       "      <td>0.0</td>\n",
       "      <td>1.0</td>\n",
       "      <td>0.0</td>\n",
       "      <td>...</td>\n",
       "      <td>0.0</td>\n",
       "      <td>0.128062</td>\n",
       "      <td>0.098184</td>\n",
       "      <td>0.142037</td>\n",
       "      <td>0.105581</td>\n",
       "      <td>0.168077</td>\n",
       "      <td>0.143543</td>\n",
       "      <td>0.234017</td>\n",
       "      <td>0.498577</td>\n",
       "      <td>0.396027</td>\n",
       "    </tr>\n",
       "  </tbody>\n",
       "</table>\n",
       "<p>2 rows × 33 columns</p>\n",
       "</div>"
      ],
      "text/plain": [
       "   HomePlanet_Earth  HomePlanet_Europa  HomePlanet_Mars  CryoSleep_True  \\\n",
       "0               0.0                1.0              0.0             0.0   \n",
       "1               1.0                0.0              0.0             0.0   \n",
       "\n",
       "   Destination_55 Cancri e  Destination_PSO J318.5-22  \\\n",
       "0                      0.0                        0.0   \n",
       "1                      0.0                        0.0   \n",
       "\n",
       "   Destination_TRAPPIST-1e  VIP_True  cabin_side_S  cabin_deck_A  ...  \\\n",
       "0                      1.0       0.0           0.0           0.0  ...   \n",
       "1                      1.0       0.0           1.0           0.0  ...   \n",
       "\n",
       "   cabin_num  ctb_preds  lgb_preds  xgb_preds  lgb_overfit  xgb_overfit  \\\n",
       "0        0.0   0.733904   0.754392   0.698305     0.743251     0.374629   \n",
       "1        0.0   0.128062   0.098184   0.142037     0.105581     0.168077   \n",
       "\n",
       "   ctb_overfit  logistic_reg  logistic_severely_underfit  logistic_underfit  \n",
       "0     0.395169      0.761902                    0.500000           0.722113  \n",
       "1     0.143543      0.234017                    0.498577           0.396027  \n",
       "\n",
       "[2 rows x 33 columns]"
      ]
     },
     "execution_count": 268,
     "metadata": {},
     "output_type": "execute_result"
    }
   ],
   "source": [
    "train_X.head(2)"
   ]
  },
  {
   "cell_type": "code",
   "execution_count": 277,
   "id": "d318ba55",
   "metadata": {},
   "outputs": [
    {
     "data": {
      "text/html": [
       "<style>#sk-container-id-15 {color: black;background-color: white;}#sk-container-id-15 pre{padding: 0;}#sk-container-id-15 div.sk-toggleable {background-color: white;}#sk-container-id-15 label.sk-toggleable__label {cursor: pointer;display: block;width: 100%;margin-bottom: 0;padding: 0.3em;box-sizing: border-box;text-align: center;}#sk-container-id-15 label.sk-toggleable__label-arrow:before {content: \"▸\";float: left;margin-right: 0.25em;color: #696969;}#sk-container-id-15 label.sk-toggleable__label-arrow:hover:before {color: black;}#sk-container-id-15 div.sk-estimator:hover label.sk-toggleable__label-arrow:before {color: black;}#sk-container-id-15 div.sk-toggleable__content {max-height: 0;max-width: 0;overflow: hidden;text-align: left;background-color: #f0f8ff;}#sk-container-id-15 div.sk-toggleable__content pre {margin: 0.2em;color: black;border-radius: 0.25em;background-color: #f0f8ff;}#sk-container-id-15 input.sk-toggleable__control:checked~div.sk-toggleable__content {max-height: 200px;max-width: 100%;overflow: auto;}#sk-container-id-15 input.sk-toggleable__control:checked~label.sk-toggleable__label-arrow:before {content: \"▾\";}#sk-container-id-15 div.sk-estimator input.sk-toggleable__control:checked~label.sk-toggleable__label {background-color: #d4ebff;}#sk-container-id-15 div.sk-label input.sk-toggleable__control:checked~label.sk-toggleable__label {background-color: #d4ebff;}#sk-container-id-15 input.sk-hidden--visually {border: 0;clip: rect(1px 1px 1px 1px);clip: rect(1px, 1px, 1px, 1px);height: 1px;margin: -1px;overflow: hidden;padding: 0;position: absolute;width: 1px;}#sk-container-id-15 div.sk-estimator {font-family: monospace;background-color: #f0f8ff;border: 1px dotted black;border-radius: 0.25em;box-sizing: border-box;margin-bottom: 0.5em;}#sk-container-id-15 div.sk-estimator:hover {background-color: #d4ebff;}#sk-container-id-15 div.sk-parallel-item::after {content: \"\";width: 100%;border-bottom: 1px solid gray;flex-grow: 1;}#sk-container-id-15 div.sk-label:hover label.sk-toggleable__label {background-color: #d4ebff;}#sk-container-id-15 div.sk-serial::before {content: \"\";position: absolute;border-left: 1px solid gray;box-sizing: border-box;top: 0;bottom: 0;left: 50%;z-index: 0;}#sk-container-id-15 div.sk-serial {display: flex;flex-direction: column;align-items: center;background-color: white;padding-right: 0.2em;padding-left: 0.2em;position: relative;}#sk-container-id-15 div.sk-item {position: relative;z-index: 1;}#sk-container-id-15 div.sk-parallel {display: flex;align-items: stretch;justify-content: center;background-color: white;position: relative;}#sk-container-id-15 div.sk-item::before, #sk-container-id-15 div.sk-parallel-item::before {content: \"\";position: absolute;border-left: 1px solid gray;box-sizing: border-box;top: 0;bottom: 0;left: 50%;z-index: -1;}#sk-container-id-15 div.sk-parallel-item {display: flex;flex-direction: column;z-index: 1;position: relative;background-color: white;}#sk-container-id-15 div.sk-parallel-item:first-child::after {align-self: flex-end;width: 50%;}#sk-container-id-15 div.sk-parallel-item:last-child::after {align-self: flex-start;width: 50%;}#sk-container-id-15 div.sk-parallel-item:only-child::after {width: 0;}#sk-container-id-15 div.sk-dashed-wrapped {border: 1px dashed gray;margin: 0 0.4em 0.5em 0.4em;box-sizing: border-box;padding-bottom: 0.4em;background-color: white;}#sk-container-id-15 div.sk-label label {font-family: monospace;font-weight: bold;display: inline-block;line-height: 1.2em;}#sk-container-id-15 div.sk-label-container {text-align: center;}#sk-container-id-15 div.sk-container {/* jupyter's `normalize.less` sets `[hidden] { display: none; }` but bootstrap.min.css set `[hidden] { display: none !important; }` so we also need the `!important` here to be able to override the default hidden behavior on the sphinx rendered scikit-learn.org. See: https://github.com/scikit-learn/scikit-learn/issues/21755 */display: inline-block !important;position: relative;}#sk-container-id-15 div.sk-text-repr-fallback {display: none;}</style><div id=\"sk-container-id-15\" class=\"sk-top-container\"><div class=\"sk-text-repr-fallback\"><pre>GridSearchCV(cv=StratifiedKFold(n_splits=5, random_state=127, shuffle=True),\n",
       "             estimator=ExtraTreesClassifier(random_state=42),\n",
       "             param_grid={&#x27;max_depth&#x27;: [18, 19, 20], &#x27;max_features&#x27;: [5, 6, 7],\n",
       "                         &#x27;min_samples_leaf&#x27;: [4, 5, 6, 7]},\n",
       "             scoring=&#x27;accuracy&#x27;)</pre><b>In a Jupyter environment, please rerun this cell to show the HTML representation or trust the notebook. <br />On GitHub, the HTML representation is unable to render, please try loading this page with nbviewer.org.</b></div><div class=\"sk-container\" hidden><div class=\"sk-item sk-dashed-wrapped\"><div class=\"sk-label-container\"><div class=\"sk-label sk-toggleable\"><input class=\"sk-toggleable__control sk-hidden--visually\" id=\"sk-estimator-id-39\" type=\"checkbox\" ><label for=\"sk-estimator-id-39\" class=\"sk-toggleable__label sk-toggleable__label-arrow\">GridSearchCV</label><div class=\"sk-toggleable__content\"><pre>GridSearchCV(cv=StratifiedKFold(n_splits=5, random_state=127, shuffle=True),\n",
       "             estimator=ExtraTreesClassifier(random_state=42),\n",
       "             param_grid={&#x27;max_depth&#x27;: [18, 19, 20], &#x27;max_features&#x27;: [5, 6, 7],\n",
       "                         &#x27;min_samples_leaf&#x27;: [4, 5, 6, 7]},\n",
       "             scoring=&#x27;accuracy&#x27;)</pre></div></div></div><div class=\"sk-parallel\"><div class=\"sk-parallel-item\"><div class=\"sk-item\"><div class=\"sk-label-container\"><div class=\"sk-label sk-toggleable\"><input class=\"sk-toggleable__control sk-hidden--visually\" id=\"sk-estimator-id-40\" type=\"checkbox\" ><label for=\"sk-estimator-id-40\" class=\"sk-toggleable__label sk-toggleable__label-arrow\">estimator: ExtraTreesClassifier</label><div class=\"sk-toggleable__content\"><pre>ExtraTreesClassifier(random_state=42)</pre></div></div></div><div class=\"sk-serial\"><div class=\"sk-item\"><div class=\"sk-estimator sk-toggleable\"><input class=\"sk-toggleable__control sk-hidden--visually\" id=\"sk-estimator-id-41\" type=\"checkbox\" ><label for=\"sk-estimator-id-41\" class=\"sk-toggleable__label sk-toggleable__label-arrow\">ExtraTreesClassifier</label><div class=\"sk-toggleable__content\"><pre>ExtraTreesClassifier(random_state=42)</pre></div></div></div></div></div></div></div></div></div></div>"
      ],
      "text/plain": [
       "GridSearchCV(cv=StratifiedKFold(n_splits=5, random_state=127, shuffle=True),\n",
       "             estimator=ExtraTreesClassifier(random_state=42),\n",
       "             param_grid={'max_depth': [18, 19, 20], 'max_features': [5, 6, 7],\n",
       "                         'min_samples_leaf': [4, 5, 6, 7]},\n",
       "             scoring='accuracy')"
      ]
     },
     "execution_count": 277,
     "metadata": {},
     "output_type": "execute_result"
    }
   ],
   "source": [
    "params = {'max_features': [5, 6, 7], 'min_samples_leaf': [4, 5, 6, 7], 'max_depth': [18, 19, 20]}\n",
    "extra_trees = ExtraTreesClassifier(n_estimators=100, random_state=42)\n",
    "grid = GridSearchCV(extra_trees, params, cv=fixed_skf, verbose=0, scoring='accuracy')\n",
    "grid.fit(train_X[test_prep.columns], train_y)"
   ]
  },
  {
   "cell_type": "code",
   "execution_count": 278,
   "id": "8ae4d296",
   "metadata": {},
   "outputs": [
    {
     "data": {
      "text/plain": [
       "0.8189346019133253"
      ]
     },
     "execution_count": 278,
     "metadata": {},
     "output_type": "execute_result"
    }
   ],
   "source": [
    "grid.best_score_"
   ]
  },
  {
   "cell_type": "code",
   "execution_count": 279,
   "id": "ef8e0dfb",
   "metadata": {},
   "outputs": [],
   "source": [
    "# grid.best_estimator_.fit(train_X, train_y)\n",
    "df = pd.DataFrame()\n",
    "df['Transported'] = grid.best_estimator_.predict(test_prep).astype(bool)\n",
    "df.set_index(test.PassengerId, inplace=True)\n",
    "df.to_csv('spaceship_preds_ensemble_mean_3.csv')"
   ]
  },
  {
   "cell_type": "markdown",
   "id": "614ebd64",
   "metadata": {},
   "source": [
    "Kaggle score: 0.80009\n",
    "<br>cv score: 0.8189346019133253"
   ]
  },
  {
   "cell_type": "code",
   "execution_count": null,
   "id": "3c8f7d53",
   "metadata": {},
   "outputs": [],
   "source": []
  }
 ],
 "metadata": {
  "kernelspec": {
   "display_name": "Python 3 (ipykernel)",
   "language": "python",
   "name": "python3"
  },
  "language_info": {
   "codemirror_mode": {
    "name": "ipython",
    "version": 3
   },
   "file_extension": ".py",
   "mimetype": "text/x-python",
   "name": "python",
   "nbconvert_exporter": "python",
   "pygments_lexer": "ipython3",
   "version": "3.10.11"
  }
 },
 "nbformat": 4,
 "nbformat_minor": 5
}
