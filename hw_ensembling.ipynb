{
 "cells": [
  {
   "cell_type": "code",
   "execution_count": 1,
   "id": "b86abf75",
   "metadata": {},
   "outputs": [],
   "source": [
    "from sklearn.preprocessing import OneHotEncoder, OrdinalEncoder\n",
    "from sklearn.compose import ColumnTransformer\n",
    "from sklearn.impute import SimpleImputer\n",
    "from sklearn.pipeline import make_pipeline\n",
    "from sklearn.tree import DecisionTreeClassifier\n",
    "from sklearn.model_selection import GridSearchCV\n",
    "import xgboost as xgb\n",
    "from sklearn.metrics import accuracy_score\n",
    "from sklearn.model_selection import StratifiedKFold\n",
    "from sklearn.linear_model import LogisticRegression\n",
    "from IPython import display\n",
    "import numpy as np\n",
    "import pandas as pd\n",
    "import seaborn as sns"
   ]
  },
  {
   "cell_type": "code",
   "execution_count": 2,
   "id": "a2c6b305",
   "metadata": {},
   "outputs": [],
   "source": [
    "train = pd.read_csv('../data/spaceship_titanic_train.csv')\n",
    "test = pd.read_csv('../data/spaceship_titanic_test.csv')"
   ]
  },
  {
   "cell_type": "code",
   "execution_count": 3,
   "id": "9c504b27",
   "metadata": {},
   "outputs": [],
   "source": [
    "def prepare_data(data, do_1hot=True, X_only = False):\n",
    "    group_count = lambda id_: id_[:4]\n",
    "    data['travel_group'] = data['PassengerId'].apply(lambda id_: id_[:4])\n",
    "    data['travel_group_n'] = data['travel_group'].apply(lambda group: data.loc[data.travel_group == group].shape[0])\n",
    "    data['travelling_with_n_kids'] = (-1)*(train['Age'] < 18).astype(int)+ data['travel_group'].apply(lambda group: data.loc[(data.travel_group == group) & (data.Age < 18)].shape[0])\n",
    "    data['cabin_side'] = data.Cabin.apply(lambda cabin: np.nan if str(cabin) == 'nan' else str(cabin)[-1])\n",
    "    data['cabin_deck'] = data.Cabin.apply(lambda cabin: np.nan if str(cabin) == 'nan' else str(cabin)[0])\n",
    "    data['cabin_num'] = data.Cabin.apply(lambda cabin: np.nan if str(cabin) == 'nan' else int(str(cabin)[2:-2]))\n",
    "    \n",
    "    \n",
    "    drop_ = ['PassengerId','Name', 'Cabin', 'travel_group']\n",
    "    if not X_only:\n",
    "        cat = ['HomePlanet', 'CryoSleep', 'Destination', 'VIP', 'Transported', 'cabin_side', 'cabin_deck']\n",
    "    else:\n",
    "        cat = ['HomePlanet', 'CryoSleep', 'Destination', 'VIP', 'cabin_side', 'cabin_deck']\n",
    "    num = ['FoodCourt', 'VRDeck', 'Spa', 'Age', 'RoomService', 'ShoppingMall', 'cabin_num']\n",
    "    one_hot = OneHotEncoder(sparse_output=False, drop='if_binary')\n",
    "   \n",
    "    if do_1hot:\n",
    "        pipe = make_pipeline(\n",
    "        SimpleImputer(strategy='most_frequent'),\n",
    "        one_hot)\n",
    "    else:\n",
    "        pipe = make_pipeline(\n",
    "        SimpleImputer(strategy='most_frequent'),\n",
    "        OrdinalEncoder())\n",
    "    \n",
    "    transformer = ColumnTransformer([\n",
    "        ('cat', pipe, cat),\n",
    "        ('num', SimpleImputer(strategy='mean'), num),\n",
    "        ('drop_', 'drop', drop_)\n",
    "    ], remainder='passthrough',\n",
    "       verbose_feature_names_out=False)\n",
    "\n",
    "    \n",
    "    d = transformer.fit_transform(data)\n",
    "    if do_1hot:\n",
    "        df = pd.DataFrame(d, columns = transformer.get_feature_names_out(), dtype=float)\n",
    "    else:\n",
    "        df = pd.DataFrame(d, columns = transformer.get_feature_names_out())\n",
    "    return df"
   ]
  },
  {
   "cell_type": "code",
   "execution_count": 83,
   "id": "ca2c5d72",
   "metadata": {},
   "outputs": [],
   "source": [
    "train_prep = prepare_data(train, True)"
   ]
  },
  {
   "cell_type": "code",
   "execution_count": 84,
   "id": "1f60b78c",
   "metadata": {},
   "outputs": [],
   "source": [
    "train_X, train_y = train_prep.drop('Transported_True', axis=1), train_prep.Transported_True"
   ]
  },
  {
   "cell_type": "code",
   "execution_count": 6,
   "id": "9449d5fd",
   "metadata": {},
   "outputs": [
    {
     "name": "stderr",
     "output_type": "stream",
     "text": [
      "C:\\Users\\ASUS\\machine_learning_projector\\venv\\lib\\site-packages\\lightgbm\\engine.py:573: UserWarning: Found `n_estimators` in params. Will use it instead of argument\n",
      "  _log_warning(f\"Found `{alias}` in params. Will use it instead of argument\")\n"
     ]
    },
    {
     "name": "stdout",
     "output_type": "stream",
     "text": [
      "Training until validation scores don't improve for 10 rounds\n",
      "[10]\tcv_agg's train binary_error: 0.19277 + 0.00192927\tcv_agg's valid binary_error: 0.208904 + 0.00359363\n",
      "[20]\tcv_agg's train binary_error: 0.182043 + 0.00121495\tcv_agg's valid binary_error: 0.202923 + 0.0028768\n",
      "[30]\tcv_agg's train binary_error: 0.173732 + 0.00267712\tcv_agg's valid binary_error: 0.197285 + 0.000977483\n",
      "[40]\tcv_agg's train binary_error: 0.166111 + 0.00274629\tcv_agg's valid binary_error: 0.193144 + 0.00315814\n",
      "[50]\tcv_agg's train binary_error: 0.162113 + 0.00184924\tcv_agg's valid binary_error: 0.190498 + 0.00241319\n",
      "[60]\tcv_agg's train binary_error: 0.15593 + 0.00218753\tcv_agg's valid binary_error: 0.191417 + 0.00392863\n",
      "Early stopping, best iteration is:\n",
      "[56]\tcv_agg's train binary_error: 0.158662 + 0.00228811\tcv_agg's valid binary_error: 0.189692 + 0.00282765\n"
     ]
    }
   ],
   "source": [
    "skf = StratifiedKFold(n_splits=5, shuffle=True, random_state=127)\n",
    "import lightgbm as lgb\n",
    "lgb_params = {\n",
    "    #('train: 0.8529852970335823', 'valid: 0.8153695330371873')\n",
    "    \"objective\": \"binary\",\n",
    "    \"learning_rate\": 0.1,\n",
    "    \"num_threads\": 10,\n",
    "    \"metric\": \"binary_error\",\n",
    "    \"seed\": 42,\n",
    "   \"verbose\":-1,\n",
    "    \n",
    "    #eta 0.01 ('train: 0.8085527468480869', 'valid: 0.7939731642128626')\n",
    "    #eta 0.03 ('train: 0.8322500349942634', 'valid: 0.8069714549649911')\n",
    "    \n",
    "     #regularization\n",
    "    \"max_depth\":5,\n",
    "    \"colsample_bytree\": 0.9,\n",
    "    \"subsample\": 0.9,\n",
    "    #('train: 0.8471183562848146', 'valid: 0.8108826746585971')\n",
    "    \"subsample_freq\": 1,\n",
    "#     \"min_data_in_leaf\": 60,\n",
    "    #('train: 0.8432359386639986', 'valid: 0.8141035779064327')\n",
    "#     \"num_leaves\":20,\n",
    "#     #('train: 0.8392384710701339', 'valid: 0.8137586182024641')\n",
    "    \n",
    "    \"n_estimators\":10_000\n",
    "    \n",
    "    #categorical features\n",
    "#     'cat_smooth': 5,\n",
    "#     'min_data_per_group': 2\n",
    "#     did not improve the results\n",
    "    \n",
    "}\n",
    "lgb_train = lgb.Dataset(train_X, label=train_y, free_raw_data=False)\n",
    "result = lgb.cv(lgb_params, lgb_train, 10_000, folds=skf, callbacks=[lgb.early_stopping(10), lgb.log_evaluation(10)], eval_train_metric=True, return_cvbooster=True)\n",
    "lgb_params['n_estimators'] = result[\"cvbooster\"].best_iteration"
   ]
  },
  {
   "cell_type": "code",
   "execution_count": 7,
   "id": "0225dad4",
   "metadata": {},
   "outputs": [
    {
     "name": "stdout",
     "output_type": "stream",
     "text": [
      "[0]\ttrain-error:0.24140+0.00109\ttest-error:0.25020+0.00579\n",
      "[10]\ttrain-error:0.18981+0.00140\ttest-error:0.20821+0.00452\n",
      "[20]\ttrain-error:0.18115+0.00137\ttest-error:0.20246+0.00477\n",
      "[30]\ttrain-error:0.17169+0.00144\ttest-error:0.19591+0.00383\n",
      "[40]\ttrain-error:0.16620+0.00193\ttest-error:0.19360+0.00493\n",
      "[50]\ttrain-error:0.16125+0.00164\ttest-error:0.19096+0.00499\n",
      "[60]\ttrain-error:0.15383+0.00171\ttest-error:0.19038+0.00750\n",
      "[70]\ttrain-error:0.14960+0.00188\ttest-error:0.18946+0.00611\n",
      "[73]\ttrain-error:0.14857+0.00175\ttest-error:0.18935+0.00643\n"
     ]
    },
    {
     "data": {
      "text/plain": [
       "train-error-mean    0.848240\n",
       "test-error-mean     0.811689\n",
       "Name: 64, dtype: float64"
      ]
     },
     "execution_count": 7,
     "metadata": {},
     "output_type": "execute_result"
    }
   ],
   "source": [
    "xgb_params = {\n",
    "    #default\n",
    "    \"objective\": \"binary:logistic\",\n",
    "    \"eta\": 0.1,\n",
    "    \"verbosity\": 0,\n",
    "    \"nthread\": 4,\n",
    "    \"random_seed\": 1,\n",
    "    \"eval_metric\": \"error\",\n",
    "    #train-error-mean    0.861325\n",
    "    #test-error-mean     0.810883\n",
    "    \n",
    "    #eta = 0.01 test 0.78, train 80.5\n",
    "    \n",
    "    # regularization parameters\n",
    "    \"max_depth\": 5,\n",
    "    \"max_leaves\": 0,\n",
    "    \"min_child_weight\":1,\n",
    "    \"subsample\": 0.9,\n",
    "    \"colsample_bytree\": 0.9,\n",
    "    \"n_estimators\": 10_000\n",
    "    \n",
    "    #train-error-mean    0.848240\n",
    "    #test-error-mean     0.811689\n",
    "    \n",
    "#    \"tree_method\": \"hist\",    \n",
    "#    \"grow_policy\": \"lossguide\"\n",
    "#     train-error-mean    0.827677\n",
    "#     test-error-mean     0.807776\n",
    "}\n",
    "xgb_train = xgb.DMatrix(train_X, train_y, feature_names=train_X.columns)\n",
    "skf = StratifiedKFold(n_splits=5, shuffle=True, random_state=127)\n",
    "result = xgb.cv(xgb_params, xgb_train, folds =skf, num_boost_round=10_000, early_stopping_rounds=10, verbose_eval=10)\n",
    "xgb_params['n_estimators'] = list(result['test-error-mean']).index(min(list(result['test-error-mean'])))\n",
    "1-result.iloc[-1, [0, 2]]"
   ]
  },
  {
   "cell_type": "code",
   "execution_count": 8,
   "id": "5388d5bc",
   "metadata": {},
   "outputs": [
    {
     "data": {
      "text/plain": [
       "213"
      ]
     },
     "execution_count": 8,
     "metadata": {},
     "output_type": "execute_result"
    }
   ],
   "source": [
    "import catboost as ctb\n",
    "ctb_params = {\n",
    "    \"loss_function\": \"Logloss\",\n",
    "    \"eval_metric\": \"Accuracy\",\n",
    "    \"iterations\": 1000,\n",
    "    \"learning_rate\": 0.1,\n",
    "    \"random_seed\": 42,\n",
    "    \"od_wait\": 30,\n",
    "    \"od_type\": \"Iter\",\n",
    "    \"thread_count\": 10,\n",
    "    \"logging_level\":\"Silent\",\n",
    "    \n",
    "#     train-Accuracy-mean      0.817439\n",
    "#     test-Accuracy-mean       0.806167\n",
    "    \n",
    "    #regularization\n",
    "    \"depth\":4,\n",
    "#     train-Accuracy-mean      0.814132\n",
    "#     test-Accuracy-mean       0.808697\n",
    "    \"subsample\":0.8,\n",
    "    \"rsm\":0.7,\n",
    "    \"min_data_in_leaf\":50,\n",
    "    \n",
    "    #tree\n",
    "    \"grow_policy\":\"Depthwise\"\n",
    "    \n",
    "#     train-Accuracy-mean      0.841050\n",
    "#     test-Accuracy-mean       0.810077\n",
    "}\n",
    "ctb_train = ctb.Pool(train_X, train_y)\n",
    "result = ctb.cv(ctb_train, ctb_params, folds=skf, seed=42, verbose_eval=100,plot=False)\n",
    "# result.iloc[-1, [0,3, 1]]\n",
    "ctb_params['iterations'] = result.iloc[-1,0]\n",
    "result.iloc[-1,0]"
   ]
  },
  {
   "cell_type": "code",
   "execution_count": 85,
   "id": "c75276bf",
   "metadata": {},
   "outputs": [],
   "source": [
    "test_prep = prepare_data(test, do_1hot=True, X_only=True)"
   ]
  },
  {
   "cell_type": "code",
   "execution_count": 86,
   "id": "32ef361b",
   "metadata": {},
   "outputs": [],
   "source": [
    "xgb_clf = xgb.XGBClassifier(**xgb_params)\n",
    "xgb_clf.fit(train_X, train_y)\n",
    "xgb_preds = xgb_clf.predict_proba(test_prep)\n",
    "xgb_preds = xgb_preds[:, 1]"
   ]
  },
  {
   "cell_type": "code",
   "execution_count": 87,
   "id": "9c754af6",
   "metadata": {},
   "outputs": [
    {
     "name": "stdout",
     "output_type": "stream",
     "text": [
      "[LightGBM] [Warning] min_data_in_leaf is set=1, min_child_samples=20 will be ignored. Current value: min_data_in_leaf=1\n",
      "[LightGBM] [Warning] num_threads is set=10, n_jobs=-1 will be ignored. Current value: num_threads=10\n"
     ]
    }
   ],
   "source": [
    "lgb_clf = lgb.LGBMClassifier(**lgb_params)\n",
    "lgb_clf.fit(train_X, train_y)\n",
    "lgb_preds = lgb_clf.predict_proba(test_prep)\n",
    "lgb_preds = lgb_preds[:, 1]"
   ]
  },
  {
   "cell_type": "code",
   "execution_count": 88,
   "id": "9e589e04",
   "metadata": {},
   "outputs": [],
   "source": [
    "ctb_clf = ctb.CatBoostClassifier(**ctb_params)\n",
    "ctb_clf.fit(train_X, train_y)\n",
    "ctb_preds = ctb_clf.predict_proba(test_prep)\n",
    "ctb_preds = ctb_preds[:, 1]"
   ]
  },
  {
   "cell_type": "markdown",
   "id": "23b81b8a",
   "metadata": {},
   "source": [
    "Kaggle score on LightGBM after specifying optimal n_iter: 0.80476"
   ]
  },
  {
   "cell_type": "markdown",
   "id": "d89b5f71",
   "metadata": {},
   "source": [
    "Kaggle XGBoost Score: 0.80804"
   ]
  },
  {
   "cell_type": "markdown",
   "id": "a1712d42",
   "metadata": {},
   "source": [
    "CatBoost: 0.8036"
   ]
  },
  {
   "cell_type": "markdown",
   "id": "b2ece7e7",
   "metadata": {},
   "source": [
    "## 1. Mean"
   ]
  },
  {
   "cell_type": "code",
   "execution_count": 13,
   "id": "c61951ab",
   "metadata": {},
   "outputs": [],
   "source": [
    "preds = xgb_preds*(1/3) + ctb_preds*(1/3) + lgb_preds*(1/3)"
   ]
  },
  {
   "cell_type": "code",
   "execution_count": 14,
   "id": "850420dd",
   "metadata": {},
   "outputs": [],
   "source": [
    "df = pd.DataFrame()\n",
    "df['Transported'] = np.vectorize(lambda p: 1 if p > 0.5 else 0)(preds).astype(bool)\n",
    "df.set_index(test.PassengerId, inplace=True)\n",
    "df.to_csv('spaceship_preds_ensemble_mean_3.csv')"
   ]
  },
  {
   "cell_type": "markdown",
   "id": "7fead6a1",
   "metadata": {},
   "source": [
    "Kaggle score: 0.80851"
   ]
  },
  {
   "cell_type": "code",
   "execution_count": 15,
   "id": "5b24b5e7",
   "metadata": {},
   "outputs": [],
   "source": [
    "preds = xgb_preds*(1/2) + ctb_preds*(1/8) + lgb_preds*(3/8)"
   ]
  },
  {
   "cell_type": "code",
   "execution_count": 16,
   "id": "52f8e120",
   "metadata": {},
   "outputs": [],
   "source": [
    "df = pd.DataFrame()\n",
    "df['Transported'] = np.vectorize(lambda p: 1 if p > 0.5 else 0)(preds).astype(bool)\n",
    "df.set_index(test.PassengerId, inplace=True)\n",
    "df.to_csv('spaceship_preds_ensemble_mean_3.csv')"
   ]
  },
  {
   "cell_type": "markdown",
   "id": "269ad4e7",
   "metadata": {},
   "source": [
    "Kaggle score: 0.81061"
   ]
  },
  {
   "cell_type": "markdown",
   "id": "5e6c53cb",
   "metadata": {},
   "source": [
    "## 2. Median"
   ]
  },
  {
   "cell_type": "code",
   "execution_count": 17,
   "id": "87b9f5c6",
   "metadata": {},
   "outputs": [],
   "source": [
    "preds = np.median(np.c_[xgb_preds,ctb_preds,lgb_preds], axis=1)"
   ]
  },
  {
   "cell_type": "code",
   "execution_count": 18,
   "id": "3a853e93",
   "metadata": {},
   "outputs": [],
   "source": [
    "df = pd.DataFrame()\n",
    "df['Transported'] = np.vectorize(lambda p: 1 if p > 0.5 else 0)(preds).astype(bool)\n",
    "df.set_index(test.PassengerId, inplace=True)\n",
    "df.to_csv('spaceship_preds_ensemble_mean_3.csv')"
   ]
  },
  {
   "cell_type": "markdown",
   "id": "7c684d8d",
   "metadata": {},
   "source": [
    "Kaggle score: 0.81108"
   ]
  },
  {
   "cell_type": "markdown",
   "id": "336326f4",
   "metadata": {},
   "source": [
    "## 3. Stacking"
   ]
  },
  {
   "cell_type": "markdown",
   "id": "249dfcfb",
   "metadata": {},
   "source": [
    "1. Adding XGB, LGB and CTB preds to the Extra Trees"
   ]
  },
  {
   "cell_type": "code",
   "execution_count": 19,
   "id": "999ffd4a",
   "metadata": {},
   "outputs": [],
   "source": [
    "from sklearn.model_selection import cross_val_predict\n",
    "from sklearn.ensemble import ExtraTreesClassifier\n",
    "from sklearn.model_selection import GridSearchCV"
   ]
  },
  {
   "cell_type": "code",
   "execution_count": 89,
   "id": "26cf6a9c",
   "metadata": {},
   "outputs": [
    {
     "name": "stdout",
     "output_type": "stream",
     "text": [
      "[LightGBM] [Warning] min_data_in_leaf is set=1, min_child_samples=20 will be ignored. Current value: min_data_in_leaf=1\n",
      "[LightGBM] [Warning] num_threads is set=10, n_jobs=-1 will be ignored. Current value: num_threads=10\n",
      "[LightGBM] [Warning] min_data_in_leaf is set=1, min_child_samples=20 will be ignored. Current value: min_data_in_leaf=1\n",
      "[LightGBM] [Warning] num_threads is set=10, n_jobs=-1 will be ignored. Current value: num_threads=10\n",
      "[LightGBM] [Warning] min_data_in_leaf is set=1, min_child_samples=20 will be ignored. Current value: min_data_in_leaf=1\n",
      "[LightGBM] [Warning] num_threads is set=10, n_jobs=-1 will be ignored. Current value: num_threads=10\n"
     ]
    }
   ],
   "source": [
    "xgb_preds_train = cross_val_predict(xgb_clf, train_X, train_y, cv=3, method='predict_proba')[:, 1]\n",
    "lgb_preds_train = cross_val_predict(lgb_clf, train_X, train_y, cv=3, method='predict_proba')[:, 1]\n",
    "# ctb_preds_train = cross_val_predict(ctb_clf, train_X, train_y, cv=3, method='predict_proba')[:, 1]"
   ]
  },
  {
   "cell_type": "code",
   "execution_count": 90,
   "id": "b93e1deb",
   "metadata": {},
   "outputs": [],
   "source": [
    "# train_X['ctb_preds'] = ctb_preds_train\n",
    "train_X['lgb_preds'] = lgb_preds_train\n",
    "train_X['xgb_preds'] = xgb_preds_train"
   ]
  },
  {
   "cell_type": "code",
   "execution_count": 91,
   "id": "b134c8de",
   "metadata": {},
   "outputs": [],
   "source": [
    "xgb_preds = xgb_clf.predict_proba(test_prep)[:, 1]\n",
    "lgb_preds = lgb_clf.predict_proba(test_prep)[:, 1]\n",
    "# ctb_preds = ctb_clf.predict_proba(test_prep)[:, 1]\n",
    "test_prep['xgb_preds'] = xgb_preds\n",
    "test_prep['lgb_preds'] = lgb_preds\n",
    "# test_prep['ctb_preds'] = ctb_preds"
   ]
  },
  {
   "cell_type": "code",
   "execution_count": 92,
   "id": "05c04bb4",
   "metadata": {},
   "outputs": [
    {
     "data": {
      "text/html": [
       "<style>#sk-container-id-10 {color: black;background-color: white;}#sk-container-id-10 pre{padding: 0;}#sk-container-id-10 div.sk-toggleable {background-color: white;}#sk-container-id-10 label.sk-toggleable__label {cursor: pointer;display: block;width: 100%;margin-bottom: 0;padding: 0.3em;box-sizing: border-box;text-align: center;}#sk-container-id-10 label.sk-toggleable__label-arrow:before {content: \"▸\";float: left;margin-right: 0.25em;color: #696969;}#sk-container-id-10 label.sk-toggleable__label-arrow:hover:before {color: black;}#sk-container-id-10 div.sk-estimator:hover label.sk-toggleable__label-arrow:before {color: black;}#sk-container-id-10 div.sk-toggleable__content {max-height: 0;max-width: 0;overflow: hidden;text-align: left;background-color: #f0f8ff;}#sk-container-id-10 div.sk-toggleable__content pre {margin: 0.2em;color: black;border-radius: 0.25em;background-color: #f0f8ff;}#sk-container-id-10 input.sk-toggleable__control:checked~div.sk-toggleable__content {max-height: 200px;max-width: 100%;overflow: auto;}#sk-container-id-10 input.sk-toggleable__control:checked~label.sk-toggleable__label-arrow:before {content: \"▾\";}#sk-container-id-10 div.sk-estimator input.sk-toggleable__control:checked~label.sk-toggleable__label {background-color: #d4ebff;}#sk-container-id-10 div.sk-label input.sk-toggleable__control:checked~label.sk-toggleable__label {background-color: #d4ebff;}#sk-container-id-10 input.sk-hidden--visually {border: 0;clip: rect(1px 1px 1px 1px);clip: rect(1px, 1px, 1px, 1px);height: 1px;margin: -1px;overflow: hidden;padding: 0;position: absolute;width: 1px;}#sk-container-id-10 div.sk-estimator {font-family: monospace;background-color: #f0f8ff;border: 1px dotted black;border-radius: 0.25em;box-sizing: border-box;margin-bottom: 0.5em;}#sk-container-id-10 div.sk-estimator:hover {background-color: #d4ebff;}#sk-container-id-10 div.sk-parallel-item::after {content: \"\";width: 100%;border-bottom: 1px solid gray;flex-grow: 1;}#sk-container-id-10 div.sk-label:hover label.sk-toggleable__label {background-color: #d4ebff;}#sk-container-id-10 div.sk-serial::before {content: \"\";position: absolute;border-left: 1px solid gray;box-sizing: border-box;top: 0;bottom: 0;left: 50%;z-index: 0;}#sk-container-id-10 div.sk-serial {display: flex;flex-direction: column;align-items: center;background-color: white;padding-right: 0.2em;padding-left: 0.2em;position: relative;}#sk-container-id-10 div.sk-item {position: relative;z-index: 1;}#sk-container-id-10 div.sk-parallel {display: flex;align-items: stretch;justify-content: center;background-color: white;position: relative;}#sk-container-id-10 div.sk-item::before, #sk-container-id-10 div.sk-parallel-item::before {content: \"\";position: absolute;border-left: 1px solid gray;box-sizing: border-box;top: 0;bottom: 0;left: 50%;z-index: -1;}#sk-container-id-10 div.sk-parallel-item {display: flex;flex-direction: column;z-index: 1;position: relative;background-color: white;}#sk-container-id-10 div.sk-parallel-item:first-child::after {align-self: flex-end;width: 50%;}#sk-container-id-10 div.sk-parallel-item:last-child::after {align-self: flex-start;width: 50%;}#sk-container-id-10 div.sk-parallel-item:only-child::after {width: 0;}#sk-container-id-10 div.sk-dashed-wrapped {border: 1px dashed gray;margin: 0 0.4em 0.5em 0.4em;box-sizing: border-box;padding-bottom: 0.4em;background-color: white;}#sk-container-id-10 div.sk-label label {font-family: monospace;font-weight: bold;display: inline-block;line-height: 1.2em;}#sk-container-id-10 div.sk-label-container {text-align: center;}#sk-container-id-10 div.sk-container {/* jupyter's `normalize.less` sets `[hidden] { display: none; }` but bootstrap.min.css set `[hidden] { display: none !important; }` so we also need the `!important` here to be able to override the default hidden behavior on the sphinx rendered scikit-learn.org. See: https://github.com/scikit-learn/scikit-learn/issues/21755 */display: inline-block !important;position: relative;}#sk-container-id-10 div.sk-text-repr-fallback {display: none;}</style><div id=\"sk-container-id-10\" class=\"sk-top-container\"><div class=\"sk-text-repr-fallback\"><pre>GridSearchCV(cv=5, estimator=ExtraTreesClassifier(random_state=42),\n",
       "             param_grid={&#x27;max_depth&#x27;: [18, 19, 20], &#x27;max_features&#x27;: [5, 6, 7],\n",
       "                         &#x27;min_samples_leaf&#x27;: [4, 5, 6, 7, 8]},\n",
       "             scoring=&#x27;accuracy&#x27;)</pre><b>In a Jupyter environment, please rerun this cell to show the HTML representation or trust the notebook. <br />On GitHub, the HTML representation is unable to render, please try loading this page with nbviewer.org.</b></div><div class=\"sk-container\" hidden><div class=\"sk-item sk-dashed-wrapped\"><div class=\"sk-label-container\"><div class=\"sk-label sk-toggleable\"><input class=\"sk-toggleable__control sk-hidden--visually\" id=\"sk-estimator-id-22\" type=\"checkbox\" ><label for=\"sk-estimator-id-22\" class=\"sk-toggleable__label sk-toggleable__label-arrow\">GridSearchCV</label><div class=\"sk-toggleable__content\"><pre>GridSearchCV(cv=5, estimator=ExtraTreesClassifier(random_state=42),\n",
       "             param_grid={&#x27;max_depth&#x27;: [18, 19, 20], &#x27;max_features&#x27;: [5, 6, 7],\n",
       "                         &#x27;min_samples_leaf&#x27;: [4, 5, 6, 7, 8]},\n",
       "             scoring=&#x27;accuracy&#x27;)</pre></div></div></div><div class=\"sk-parallel\"><div class=\"sk-parallel-item\"><div class=\"sk-item\"><div class=\"sk-label-container\"><div class=\"sk-label sk-toggleable\"><input class=\"sk-toggleable__control sk-hidden--visually\" id=\"sk-estimator-id-23\" type=\"checkbox\" ><label for=\"sk-estimator-id-23\" class=\"sk-toggleable__label sk-toggleable__label-arrow\">estimator: ExtraTreesClassifier</label><div class=\"sk-toggleable__content\"><pre>ExtraTreesClassifier(random_state=42)</pre></div></div></div><div class=\"sk-serial\"><div class=\"sk-item\"><div class=\"sk-estimator sk-toggleable\"><input class=\"sk-toggleable__control sk-hidden--visually\" id=\"sk-estimator-id-24\" type=\"checkbox\" ><label for=\"sk-estimator-id-24\" class=\"sk-toggleable__label sk-toggleable__label-arrow\">ExtraTreesClassifier</label><div class=\"sk-toggleable__content\"><pre>ExtraTreesClassifier(random_state=42)</pre></div></div></div></div></div></div></div></div></div></div>"
      ],
      "text/plain": [
       "GridSearchCV(cv=5, estimator=ExtraTreesClassifier(random_state=42),\n",
       "             param_grid={'max_depth': [18, 19, 20], 'max_features': [5, 6, 7],\n",
       "                         'min_samples_leaf': [4, 5, 6, 7, 8]},\n",
       "             scoring='accuracy')"
      ]
     },
     "execution_count": 92,
     "metadata": {},
     "output_type": "execute_result"
    }
   ],
   "source": [
    "params = {'max_features': [5, 6, 7], 'min_samples_leaf': [4, 5, 6, 7, 8], 'max_depth': [18, 19, 20]}\n",
    "extra_trees = ExtraTreesClassifier(n_estimators=100, random_state=42)\n",
    "grid = GridSearchCV(extra_trees, params, cv=5, verbose=0, scoring='accuracy')\n",
    "grid.fit(train_X, train_y)"
   ]
  },
  {
   "cell_type": "code",
   "execution_count": 93,
   "id": "a388e701",
   "metadata": {},
   "outputs": [
    {
     "data": {
      "text/html": [
       "<style>#sk-container-id-11 {color: black;background-color: white;}#sk-container-id-11 pre{padding: 0;}#sk-container-id-11 div.sk-toggleable {background-color: white;}#sk-container-id-11 label.sk-toggleable__label {cursor: pointer;display: block;width: 100%;margin-bottom: 0;padding: 0.3em;box-sizing: border-box;text-align: center;}#sk-container-id-11 label.sk-toggleable__label-arrow:before {content: \"▸\";float: left;margin-right: 0.25em;color: #696969;}#sk-container-id-11 label.sk-toggleable__label-arrow:hover:before {color: black;}#sk-container-id-11 div.sk-estimator:hover label.sk-toggleable__label-arrow:before {color: black;}#sk-container-id-11 div.sk-toggleable__content {max-height: 0;max-width: 0;overflow: hidden;text-align: left;background-color: #f0f8ff;}#sk-container-id-11 div.sk-toggleable__content pre {margin: 0.2em;color: black;border-radius: 0.25em;background-color: #f0f8ff;}#sk-container-id-11 input.sk-toggleable__control:checked~div.sk-toggleable__content {max-height: 200px;max-width: 100%;overflow: auto;}#sk-container-id-11 input.sk-toggleable__control:checked~label.sk-toggleable__label-arrow:before {content: \"▾\";}#sk-container-id-11 div.sk-estimator input.sk-toggleable__control:checked~label.sk-toggleable__label {background-color: #d4ebff;}#sk-container-id-11 div.sk-label input.sk-toggleable__control:checked~label.sk-toggleable__label {background-color: #d4ebff;}#sk-container-id-11 input.sk-hidden--visually {border: 0;clip: rect(1px 1px 1px 1px);clip: rect(1px, 1px, 1px, 1px);height: 1px;margin: -1px;overflow: hidden;padding: 0;position: absolute;width: 1px;}#sk-container-id-11 div.sk-estimator {font-family: monospace;background-color: #f0f8ff;border: 1px dotted black;border-radius: 0.25em;box-sizing: border-box;margin-bottom: 0.5em;}#sk-container-id-11 div.sk-estimator:hover {background-color: #d4ebff;}#sk-container-id-11 div.sk-parallel-item::after {content: \"\";width: 100%;border-bottom: 1px solid gray;flex-grow: 1;}#sk-container-id-11 div.sk-label:hover label.sk-toggleable__label {background-color: #d4ebff;}#sk-container-id-11 div.sk-serial::before {content: \"\";position: absolute;border-left: 1px solid gray;box-sizing: border-box;top: 0;bottom: 0;left: 50%;z-index: 0;}#sk-container-id-11 div.sk-serial {display: flex;flex-direction: column;align-items: center;background-color: white;padding-right: 0.2em;padding-left: 0.2em;position: relative;}#sk-container-id-11 div.sk-item {position: relative;z-index: 1;}#sk-container-id-11 div.sk-parallel {display: flex;align-items: stretch;justify-content: center;background-color: white;position: relative;}#sk-container-id-11 div.sk-item::before, #sk-container-id-11 div.sk-parallel-item::before {content: \"\";position: absolute;border-left: 1px solid gray;box-sizing: border-box;top: 0;bottom: 0;left: 50%;z-index: -1;}#sk-container-id-11 div.sk-parallel-item {display: flex;flex-direction: column;z-index: 1;position: relative;background-color: white;}#sk-container-id-11 div.sk-parallel-item:first-child::after {align-self: flex-end;width: 50%;}#sk-container-id-11 div.sk-parallel-item:last-child::after {align-self: flex-start;width: 50%;}#sk-container-id-11 div.sk-parallel-item:only-child::after {width: 0;}#sk-container-id-11 div.sk-dashed-wrapped {border: 1px dashed gray;margin: 0 0.4em 0.5em 0.4em;box-sizing: border-box;padding-bottom: 0.4em;background-color: white;}#sk-container-id-11 div.sk-label label {font-family: monospace;font-weight: bold;display: inline-block;line-height: 1.2em;}#sk-container-id-11 div.sk-label-container {text-align: center;}#sk-container-id-11 div.sk-container {/* jupyter's `normalize.less` sets `[hidden] { display: none; }` but bootstrap.min.css set `[hidden] { display: none !important; }` so we also need the `!important` here to be able to override the default hidden behavior on the sphinx rendered scikit-learn.org. See: https://github.com/scikit-learn/scikit-learn/issues/21755 */display: inline-block !important;position: relative;}#sk-container-id-11 div.sk-text-repr-fallback {display: none;}</style><div id=\"sk-container-id-11\" class=\"sk-top-container\"><div class=\"sk-text-repr-fallback\"><pre>ExtraTreesClassifier(max_depth=19, max_features=6, min_samples_leaf=6,\n",
       "                     random_state=42)</pre><b>In a Jupyter environment, please rerun this cell to show the HTML representation or trust the notebook. <br />On GitHub, the HTML representation is unable to render, please try loading this page with nbviewer.org.</b></div><div class=\"sk-container\" hidden><div class=\"sk-item\"><div class=\"sk-estimator sk-toggleable\"><input class=\"sk-toggleable__control sk-hidden--visually\" id=\"sk-estimator-id-25\" type=\"checkbox\" checked><label for=\"sk-estimator-id-25\" class=\"sk-toggleable__label sk-toggleable__label-arrow\">ExtraTreesClassifier</label><div class=\"sk-toggleable__content\"><pre>ExtraTreesClassifier(max_depth=19, max_features=6, min_samples_leaf=6,\n",
       "                     random_state=42)</pre></div></div></div></div></div>"
      ],
      "text/plain": [
       "ExtraTreesClassifier(max_depth=19, max_features=6, min_samples_leaf=6,\n",
       "                     random_state=42)"
      ]
     },
     "execution_count": 93,
     "metadata": {},
     "output_type": "execute_result"
    }
   ],
   "source": [
    "grid.best_estimator_"
   ]
  },
  {
   "cell_type": "code",
   "execution_count": 94,
   "id": "ae29b559",
   "metadata": {},
   "outputs": [
    {
     "data": {
      "text/plain": [
       "0.7996125572478924"
      ]
     },
     "execution_count": 94,
     "metadata": {},
     "output_type": "execute_result"
    }
   ],
   "source": [
    "grid.best_score_"
   ]
  },
  {
   "cell_type": "code",
   "execution_count": 95,
   "id": "287d21ca",
   "metadata": {},
   "outputs": [],
   "source": [
    "grid.best_estimator_.fit(train_X, train_y)\n",
    "df = pd.DataFrame()\n",
    "df['Transported'] = grid.best_estimator_.predict(test_prep[train_X.columns]).astype(bool)\n",
    "df.set_index(test.PassengerId, inplace=True)\n",
    "df.to_csv('spaceship_preds_ensemble_mean_3.csv')"
   ]
  },
  {
   "cell_type": "markdown",
   "id": "7d521434",
   "metadata": {},
   "source": [
    "XGB, kaggle score: 0.79892"
   ]
  },
  {
   "cell_type": "markdown",
   "id": "79c38bbc",
   "metadata": {},
   "source": [
    "LGB, kaggle score: 0.80102"
   ]
  },
  {
   "cell_type": "markdown",
   "id": "8646a58f",
   "metadata": {},
   "source": [
    "XGB+LGB, kaggle score: 0.80266"
   ]
  },
  {
   "cell_type": "markdown",
   "id": "5e8c8b5e",
   "metadata": {},
   "source": [
    "XGB+LGB+CTB, Kaggle score: 0.80126"
   ]
  },
  {
   "cell_type": "markdown",
   "id": "a0a166c7",
   "metadata": {},
   "source": [
    "2. Adding overfitted XGB, LGB, CTB:"
   ]
  },
  {
   "cell_type": "code",
   "execution_count": 96,
   "id": "8c1be411",
   "metadata": {},
   "outputs": [],
   "source": [
    "cols = ['HomePlanet_Earth', 'HomePlanet_Europa', 'HomePlanet_Mars',\n",
    "       'CryoSleep_True', 'Destination_55 Cancri e',\n",
    "       'Destination_PSO J318.5-22', 'Destination_TRAPPIST-1e', 'VIP_True',\n",
    "       'cabin_side_S', 'cabin_deck_A', 'cabin_deck_B', 'cabin_deck_C',\n",
    "       'cabin_deck_D', 'cabin_deck_E', 'cabin_deck_F', 'cabin_deck_G',\n",
    "       'cabin_deck_T', 'FoodCourt', 'VRDeck', 'Spa', 'Age', 'RoomService',\n",
    "       'ShoppingMall', 'cabin_num', 'travel_group_n', 'travelling_with_n_kids']"
   ]
  },
  {
   "cell_type": "code",
   "execution_count": 97,
   "id": "d90ae313",
   "metadata": {},
   "outputs": [
    {
     "name": "stderr",
     "output_type": "stream",
     "text": [
      "C:\\Users\\ASUS\\machine_learning_projector\\venv\\lib\\site-packages\\lightgbm\\engine.py:573: UserWarning: Found `n_estimators` in params. Will use it instead of argument\n",
      "  _log_warning(f\"Found `{alias}` in params. Will use it instead of argument\")\n"
     ]
    },
    {
     "name": "stdout",
     "output_type": "stream",
     "text": [
      "Training until validation scores don't improve for 10 rounds\n",
      "[10]\tcv_agg's train binary_error: 0.00293342 + 0.000347686\tcv_agg's valid binary_error: 0.21201 + 0.00436324\n",
      "[20]\tcv_agg's train binary_error: 0.00126542 + 0.000525659\tcv_agg's valid binary_error: 0.204647 + 0.0028758\n",
      "[30]\tcv_agg's train binary_error: 0.00086278 + 0.000315081\tcv_agg's valid binary_error: 0.201312 + 0.00482641\n",
      "[40]\tcv_agg's train binary_error: 0.00086278 + 0.000315081\tcv_agg's valid binary_error: 0.200393 + 0.0071966\n",
      "[50]\tcv_agg's train binary_error: 0.00086278 + 0.000315081\tcv_agg's valid binary_error: 0.197402 + 0.00621735\n",
      "[60]\tcv_agg's train binary_error: 0.00086278 + 0.000315081\tcv_agg's valid binary_error: 0.197976 + 0.00374019\n",
      "[70]\tcv_agg's train binary_error: 0.00086278 + 0.000315081\tcv_agg's valid binary_error: 0.194986 + 0.00692065\n",
      "[80]\tcv_agg's train binary_error: 0.00086278 + 0.000315081\tcv_agg's valid binary_error: 0.194641 + 0.00776258\n",
      "[90]\tcv_agg's train binary_error: 0.00086278 + 0.000315081\tcv_agg's valid binary_error: 0.195906 + 0.00549702\n",
      "Early stopping, best iteration is:\n",
      "[81]\tcv_agg's train binary_error: 0.00086278 + 0.000315081\tcv_agg's valid binary_error: 0.194181 + 0.00707888\n"
     ]
    }
   ],
   "source": [
    "skf = StratifiedKFold(n_splits=5, shuffle=True, random_state=127)\n",
    "import lightgbm as lgb\n",
    "lgb_params = {\n",
    "    \"objective\": \"binary\",\n",
    "    \"learning_rate\": 0.1,\n",
    "    \"num_threads\": 10,\n",
    "    \"metric\": \"binary_error\",\n",
    "    \"seed\": 42,\n",
    "   \"verbose\":-1,\n",
    "    \n",
    "    #eta 0.01 ('train: 0.8085527468480869', 'valid: 0.7939731642128626')\n",
    "    #eta 0.03 ('train: 0.8322500349942634', 'valid: 0.8069714549649911')\n",
    "    \n",
    "     #regularization\n",
    "    \"max_depth\":25,\n",
    "    \"colsample_bytree\": 0.8,\n",
    "    \"subsample\": 0.8,\n",
    "    #('train: 0.8471183562848146', 'valid: 0.8108826746585971')\n",
    "    \"subsample_freq\": 1,\n",
    "    \"min_data_in_leaf\": 1,\n",
    "    #('train: 0.8432359386639986', 'valid: 0.8141035779064327')\n",
    "    \"num_leaves\":1000,\n",
    "#     #('train: 0.8392384710701339', 'valid: 0.8137586182024641')\n",
    "    \n",
    "    \"n_estimators\":10_000\n",
    "    \n",
    "    #categorical features\n",
    "#     'cat_smooth': 5,\n",
    "#     'min_data_per_group': 2\n",
    "#     did not improve the results\n",
    "    \n",
    "}\n",
    "lgb_train = lgb.Dataset(train_X[cols], label=train_y, free_raw_data=False)\n",
    "result = lgb.cv(lgb_params, lgb_train, 10_000, folds=skf, callbacks=[lgb.early_stopping(10), lgb.log_evaluation(10)], eval_train_metric=True, return_cvbooster=True)\n",
    "lgb_params['n_estimators'] = result[\"cvbooster\"].best_iteration"
   ]
  },
  {
   "cell_type": "code",
   "execution_count": 98,
   "id": "44be49a1",
   "metadata": {},
   "outputs": [
    {
     "name": "stdout",
     "output_type": "stream",
     "text": [
      "[LightGBM] [Warning] min_data_in_leaf is set=1, min_child_samples=20 will be ignored. Current value: min_data_in_leaf=1\n",
      "[LightGBM] [Warning] num_threads is set=10, n_jobs=-1 will be ignored. Current value: num_threads=10\n",
      "[LightGBM] [Warning] min_data_in_leaf is set=1, min_child_samples=20 will be ignored. Current value: min_data_in_leaf=1\n",
      "[LightGBM] [Warning] num_threads is set=10, n_jobs=-1 will be ignored. Current value: num_threads=10\n",
      "[LightGBM] [Warning] min_data_in_leaf is set=1, min_child_samples=20 will be ignored. Current value: min_data_in_leaf=1\n",
      "[LightGBM] [Warning] num_threads is set=10, n_jobs=-1 will be ignored. Current value: num_threads=10\n",
      "[LightGBM] [Warning] min_data_in_leaf is set=1, min_child_samples=20 will be ignored. Current value: min_data_in_leaf=1\n",
      "[LightGBM] [Warning] num_threads is set=10, n_jobs=-1 will be ignored. Current value: num_threads=10\n",
      "[LightGBM] [Warning] min_data_in_leaf is set=1, min_child_samples=20 will be ignored. Current value: min_data_in_leaf=1\n",
      "[LightGBM] [Warning] num_threads is set=10, n_jobs=-1 will be ignored. Current value: num_threads=10\n"
     ]
    }
   ],
   "source": [
    "lgb_clf = lgb.LGBMClassifier(**lgb_params)\n",
    "lgb_preds_train = cross_val_predict(lgb_clf, train_X[cols], train_y, cv=5, method='predict_proba')[:, 1]\n",
    "lgb_clf.fit(train_X[cols], train_y)\n",
    "lgb_preds_test = lgb_clf.predict_proba(test_prep[cols])[:, 1]"
   ]
  },
  {
   "cell_type": "code",
   "execution_count": 99,
   "id": "28d665f0",
   "metadata": {},
   "outputs": [],
   "source": [
    "train_X['lgb_overfit'] = lgb_preds_train\n",
    "test_prep['lgb_overfit'] = lgb_preds_test"
   ]
  },
  {
   "cell_type": "code",
   "execution_count": 118,
   "id": "4d57cce9",
   "metadata": {},
   "outputs": [],
   "source": [
    "logistic = LogisticRegression(penalty='l2',\n",
    "                                C=0.01,\n",
    "                              class_weight='balanced',\n",
    "                              random_state=42,\n",
    "                              max_iter=1000\n",
    "                                )\n",
    "preds = cross_val_predict(logistic, train_X[cols], train_y, cv=3, method='predict_proba')[:, 1]\n",
    "train_X['logistic_reg'] = preds\n",
    "logistic.fit(train_X[cols], train_y)\n",
    "test_prep['logistic_reg'] = logistic.predict_proba(test_prep[cols])[:, 1]"
   ]
  },
  {
   "cell_type": "code",
   "execution_count": 101,
   "id": "482d2b2f",
   "metadata": {
    "scrolled": false
   },
   "outputs": [
    {
     "name": "stdout",
     "output_type": "stream",
     "text": [
      "[0]\ttrain-error:0.13436+0.00378\ttest-error:0.27148+0.00537\n",
      "[10]\ttrain-error:0.05818+0.00241\ttest-error:0.20246+0.00363\n",
      "[20]\ttrain-error:0.03649+0.00203\ttest-error:0.19855+0.00410\n",
      "[30]\ttrain-error:0.02108+0.00099\ttest-error:0.19763+0.00419\n",
      "[32]\ttrain-error:0.01884+0.00153\ttest-error:0.19867+0.00528\n"
     ]
    },
    {
     "data": {
      "text/plain": [
       "train-error-mean    0.968768\n",
       "test-error-mean     0.804210\n",
       "Name: 23, dtype: float64"
      ]
     },
     "execution_count": 101,
     "metadata": {},
     "output_type": "execute_result"
    }
   ],
   "source": [
    "xgb_params = {\n",
    "    #default\n",
    "    \"objective\": \"binary:logistic\",\n",
    "    \"eta\": 0.1,\n",
    "    \"verbosity\": 0,\n",
    "    \"nthread\": 4,\n",
    "    \"random_seed\": 1,\n",
    "    \"eval_metric\": \"error\",\n",
    "    #train-error-mean    0.861325\n",
    "    #test-error-mean     0.810883\n",
    "    \n",
    "    #eta = 0.01 test 0.78, train 80.5\n",
    "    \n",
    "    # regularization parameters\n",
    "    \"max_depth\": 20,\n",
    "    \"max_leaves\": 0,\n",
    "    \"min_child_weight\":1,\n",
    "    \"subsample\": 0.9,\n",
    "    \"colsample_bytree\": 0.9,\n",
    "    \"n_estimators\": 10_000\n",
    "    \n",
    "    #train-error-mean    0.848240\n",
    "    #test-error-mean     0.811689\n",
    "    \n",
    "#    \"tree_method\": \"hist\",    \n",
    "#    \"grow_policy\": \"lossguide\"\n",
    "#     train-error-mean    0.827677\n",
    "#     test-error-mean     0.807776\n",
    "}\n",
    "xgb_train = xgb.DMatrix(train_X[cols], train_y, feature_names=cols)\n",
    "skf = StratifiedKFold(n_splits=5, shuffle=True, random_state=127)\n",
    "result = xgb.cv(xgb_params, xgb_train, folds =skf, num_boost_round=10_000, early_stopping_rounds=10, verbose_eval=10)\n",
    "xgb_params['n_estimators'] = list(result['test-error-mean']).index(min(list(result['test-error-mean'])))\n",
    "1-result.iloc[-1, [0, 2]]"
   ]
  },
  {
   "cell_type": "code",
   "execution_count": 102,
   "id": "be7543ef",
   "metadata": {},
   "outputs": [],
   "source": [
    "xgb_clf = xgb.XGBClassifier(**xgb_params)\n",
    "xgb_overfit_train = cross_val_predict(xgb_clf, train_X[cols], train_y, cv=5, method='predict_proba')[:, 1]\n",
    "xgb_clf.fit(train_X[cols], train_y)\n",
    "xgb_overfit_test = xgb_clf.predict_proba(test_prep[cols])[:,1]"
   ]
  },
  {
   "cell_type": "code",
   "execution_count": 103,
   "id": "f5db7d51",
   "metadata": {},
   "outputs": [],
   "source": [
    "train_X['xgb_overfit'] = xgb_overfit_train\n",
    "test_prep['xgb_overfit'] = xgb_overfit_test"
   ]
  },
  {
   "cell_type": "code",
   "execution_count": 104,
   "id": "989d8473",
   "metadata": {},
   "outputs": [
    {
     "data": {
      "text/plain": [
       "108"
      ]
     },
     "execution_count": 104,
     "metadata": {},
     "output_type": "execute_result"
    }
   ],
   "source": [
    "import catboost as ctb\n",
    "ctb_params = {\n",
    "    \"loss_function\": \"Logloss\",\n",
    "    \"eval_metric\": \"Accuracy\",\n",
    "    \"iterations\": 1000,\n",
    "    \"learning_rate\": 0.1,\n",
    "    \"random_seed\": 42,\n",
    "    \"od_wait\": 30,\n",
    "    \"od_type\": \"Iter\",\n",
    "    \"thread_count\": 10,\n",
    "    \"logging_level\":\"Silent\",\n",
    "    \n",
    "#     train-Accuracy-mean      0.817439\n",
    "#     test-Accuracy-mean       0.806167\n",
    "    \n",
    "    #regularization\n",
    "    \"depth\":16,\n",
    "#     train-Accuracy-mean      0.814132\n",
    "#     test-Accuracy-mean       0.808697\n",
    "    \"subsample\":0.8,\n",
    "    \"rsm\":0.7,\n",
    "    \"min_data_in_leaf\":50,\n",
    "    \n",
    "    #tree\n",
    "    \"grow_policy\":\"Depthwise\"\n",
    "    \n",
    "#     train-Accuracy-mean      0.841050\n",
    "#     test-Accuracy-mean       0.810077\n",
    "}\n",
    "ctb_train = ctb.Pool(train_X, train_y)\n",
    "result = ctb.cv(ctb_train, ctb_params, folds=skf, seed=42, verbose_eval=100,plot=False)\n",
    "# result.iloc[-1, [0,3, 1]]\n",
    "ctb_params['iterations'] = result.iloc[-1,0]\n",
    "result.iloc[-1,0]"
   ]
  },
  {
   "cell_type": "code",
   "execution_count": 105,
   "id": "e8a55ac2",
   "metadata": {},
   "outputs": [
    {
     "data": {
      "text/plain": [
       "test-Accuracy-mean     0.816865\n",
       "train-Accuracy-mean    0.974030\n",
       "Name: 108, dtype: float64"
      ]
     },
     "execution_count": 105,
     "metadata": {},
     "output_type": "execute_result"
    }
   ],
   "source": [
    "result.iloc[-1, [1, 3]]"
   ]
  },
  {
   "cell_type": "code",
   "execution_count": 106,
   "id": "865874b8",
   "metadata": {},
   "outputs": [],
   "source": [
    "ctb_clf = ctb.CatBoostClassifier(**ctb_params)\n",
    "ctb_preds_train = cross_val_predict(ctb_clf, train_X[cols], train_y, cv=5, method='predict_proba')[:, 1]\n",
    "\n",
    "ctb_clf.fit(train_X[cols], train_y)\n",
    "ctb_preds_test = ctb_clf.predict_proba(test_prep[cols])[:, 1]\n",
    "\n",
    "train_X['ctb_overfit'] = ctb_preds_train\n",
    "test_prep['ctb_overfit'] = ctb_preds_test"
   ]
  },
  {
   "cell_type": "code",
   "execution_count": 120,
   "id": "a1e49ab9",
   "metadata": {},
   "outputs": [],
   "source": [
    "params = {'max_features': [5, 6, 7], 'min_samples_leaf': [4, 5, 6], 'max_depth': [18, 19, 20]}\n",
    "extra_trees = ExtraTreesClassifier(n_estimators=100, random_state=42)\n",
    "grid = GridSearchCV(extra_trees, params, cv=5, verbose=0, scoring='accuracy')\n",
    "grid.fit(train_X, train_y)"
   ]
  },
  {
   "cell_type": "code",
   "execution_count": 38,
   "id": "ccff772f",
   "metadata": {},
   "outputs": [
    {
     "data": {
      "text/plain": [
       "0.8080092456876727"
      ]
     },
     "execution_count": 38,
     "metadata": {},
     "output_type": "execute_result"
    }
   ],
   "source": [
    "grid.best_score_"
   ]
  },
  {
   "cell_type": "code",
   "execution_count": 39,
   "id": "9ab2fe01",
   "metadata": {},
   "outputs": [],
   "source": [
    "grid.best_estimator_.fit(train_X, train_y)\n",
    "df = pd.DataFrame()\n",
    "df['Transported'] = grid.best_estimator_.predict(test_prep[train_X.columns]).astype(bool)\n",
    "df.set_index(test.PassengerId, inplace=True)\n",
    "df.to_csv('spaceship_preds_ensemble_mean_3.csv')"
   ]
  },
  {
   "cell_type": "markdown",
   "id": "1deea4a6",
   "metadata": {},
   "source": [
    "Kaggle score: 0.79845"
   ]
  },
  {
   "cell_type": "markdown",
   "id": "82d4809f",
   "metadata": {},
   "source": [
    "3. Adding underfitted logistic regressions:"
   ]
  },
  {
   "cell_type": "code",
   "execution_count": 107,
   "id": "779adab6",
   "metadata": {},
   "outputs": [],
   "source": [
    "logistic = LogisticRegression(C=0.00000000001)\n",
    "logistic_severely_underfit_train = cross_val_predict(logistic, train_X[cols], train_y, method='predict_proba')[:, 1]\n",
    "logistic.fit(train_X[cols], train_y)\n",
    "logistic_severely_underfit_test = logistic.predict_proba(test_prep[cols])[:,1]\n",
    "train_X['logistic_severely_underfit'] = logistic_severely_underfit_train\n",
    "test_prep['logistic_severely_underfit'] = logistic_severely_underfit_test"
   ]
  },
  {
   "cell_type": "code",
   "execution_count": 108,
   "id": "cc38fe0b",
   "metadata": {},
   "outputs": [
    {
     "data": {
      "text/plain": [
       "0.5515932359369607"
      ]
     },
     "execution_count": 108,
     "metadata": {},
     "output_type": "execute_result"
    }
   ],
   "source": [
    "accuracy_score(train_y, np.vectorize(lambda p: 1 if p>0.5 else 0)(logistic_severely_underfit_train))"
   ]
  },
  {
   "cell_type": "code",
   "execution_count": 109,
   "id": "a9d83038",
   "metadata": {},
   "outputs": [],
   "source": [
    "logistic = LogisticRegression(C=0.0000001)\n",
    "logistic_severely_underfit_train = cross_val_predict(logistic, train_X[cols], train_y, method='predict_proba')[:, 1]\n",
    "logistic.fit(train_X[cols], train_y)\n",
    "logistic_severely_underfit_test = logistic.predict_proba(test_prep[cols])[:,1]\n",
    "train_X['logistic_underfit'] = logistic_severely_underfit_train\n",
    "test_prep['logistic_underfit'] = logistic_severely_underfit_test"
   ]
  },
  {
   "cell_type": "code",
   "execution_count": 110,
   "id": "8402df72",
   "metadata": {},
   "outputs": [
    {
     "data": {
      "text/plain": [
       "0.76969975842632"
      ]
     },
     "execution_count": 110,
     "metadata": {},
     "output_type": "execute_result"
    }
   ],
   "source": [
    "accuracy_score(train_y, np.vectorize(lambda p: 1 if p>0.5 else 0)(logistic_severely_underfit_train))"
   ]
  },
  {
   "cell_type": "code",
   "execution_count": 111,
   "id": "d235e091",
   "metadata": {},
   "outputs": [
    {
     "data": {
      "text/html": [
       "<div>\n",
       "<style scoped>\n",
       "    .dataframe tbody tr th:only-of-type {\n",
       "        vertical-align: middle;\n",
       "    }\n",
       "\n",
       "    .dataframe tbody tr th {\n",
       "        vertical-align: top;\n",
       "    }\n",
       "\n",
       "    .dataframe thead th {\n",
       "        text-align: right;\n",
       "    }\n",
       "</style>\n",
       "<table border=\"1\" class=\"dataframe\">\n",
       "  <thead>\n",
       "    <tr style=\"text-align: right;\">\n",
       "      <th></th>\n",
       "      <th>HomePlanet_Earth</th>\n",
       "      <th>HomePlanet_Europa</th>\n",
       "      <th>HomePlanet_Mars</th>\n",
       "      <th>CryoSleep_True</th>\n",
       "      <th>Destination_55 Cancri e</th>\n",
       "      <th>Destination_PSO J318.5-22</th>\n",
       "      <th>Destination_TRAPPIST-1e</th>\n",
       "      <th>VIP_True</th>\n",
       "      <th>cabin_side_S</th>\n",
       "      <th>cabin_deck_A</th>\n",
       "      <th>...</th>\n",
       "      <th>travel_group_n</th>\n",
       "      <th>travelling_with_n_kids</th>\n",
       "      <th>lgb_preds</th>\n",
       "      <th>xgb_preds</th>\n",
       "      <th>lgb_overfit</th>\n",
       "      <th>logistic_reg</th>\n",
       "      <th>xgb_overfit</th>\n",
       "      <th>ctb_overfit</th>\n",
       "      <th>logistic_severely_underfit</th>\n",
       "      <th>logistic_underfit</th>\n",
       "    </tr>\n",
       "  </thead>\n",
       "  <tbody>\n",
       "    <tr>\n",
       "      <th>0</th>\n",
       "      <td>0.0</td>\n",
       "      <td>1.0</td>\n",
       "      <td>0.0</td>\n",
       "      <td>0.0</td>\n",
       "      <td>0.0</td>\n",
       "      <td>0.0</td>\n",
       "      <td>1.0</td>\n",
       "      <td>0.0</td>\n",
       "      <td>0.0</td>\n",
       "      <td>0.0</td>\n",
       "      <td>...</td>\n",
       "      <td>1.0</td>\n",
       "      <td>0.0</td>\n",
       "      <td>0.021052</td>\n",
       "      <td>0.364029</td>\n",
       "      <td>0.113313</td>\n",
       "      <td>0.725583</td>\n",
       "      <td>0.416498</td>\n",
       "      <td>0.067392</td>\n",
       "      <td>0.500000</td>\n",
       "      <td>0.760070</td>\n",
       "    </tr>\n",
       "    <tr>\n",
       "      <th>1</th>\n",
       "      <td>1.0</td>\n",
       "      <td>0.0</td>\n",
       "      <td>0.0</td>\n",
       "      <td>0.0</td>\n",
       "      <td>0.0</td>\n",
       "      <td>0.0</td>\n",
       "      <td>1.0</td>\n",
       "      <td>0.0</td>\n",
       "      <td>1.0</td>\n",
       "      <td>0.0</td>\n",
       "      <td>...</td>\n",
       "      <td>1.0</td>\n",
       "      <td>0.0</td>\n",
       "      <td>0.006808</td>\n",
       "      <td>0.249655</td>\n",
       "      <td>0.001791</td>\n",
       "      <td>0.288185</td>\n",
       "      <td>0.192300</td>\n",
       "      <td>0.006822</td>\n",
       "      <td>0.498639</td>\n",
       "      <td>0.440897</td>\n",
       "    </tr>\n",
       "  </tbody>\n",
       "</table>\n",
       "<p>2 rows × 34 columns</p>\n",
       "</div>"
      ],
      "text/plain": [
       "   HomePlanet_Earth  HomePlanet_Europa  HomePlanet_Mars  CryoSleep_True  \\\n",
       "0               0.0                1.0              0.0             0.0   \n",
       "1               1.0                0.0              0.0             0.0   \n",
       "\n",
       "   Destination_55 Cancri e  Destination_PSO J318.5-22  \\\n",
       "0                      0.0                        0.0   \n",
       "1                      0.0                        0.0   \n",
       "\n",
       "   Destination_TRAPPIST-1e  VIP_True  cabin_side_S  cabin_deck_A  ...  \\\n",
       "0                      1.0       0.0           0.0           0.0  ...   \n",
       "1                      1.0       0.0           1.0           0.0  ...   \n",
       "\n",
       "   travel_group_n  travelling_with_n_kids  lgb_preds  xgb_preds  lgb_overfit  \\\n",
       "0             1.0                     0.0   0.021052   0.364029     0.113313   \n",
       "1             1.0                     0.0   0.006808   0.249655     0.001791   \n",
       "\n",
       "   logistic_reg  xgb_overfit  ctb_overfit  logistic_severely_underfit  \\\n",
       "0      0.725583     0.416498     0.067392                    0.500000   \n",
       "1      0.288185     0.192300     0.006822                    0.498639   \n",
       "\n",
       "   logistic_underfit  \n",
       "0           0.760070  \n",
       "1           0.440897  \n",
       "\n",
       "[2 rows x 34 columns]"
      ]
     },
     "execution_count": 111,
     "metadata": {},
     "output_type": "execute_result"
    }
   ],
   "source": [
    "train_X.head(2)"
   ]
  },
  {
   "cell_type": "code",
   "execution_count": 125,
   "id": "d318ba55",
   "metadata": {},
   "outputs": [
    {
     "data": {
      "text/html": [
       "<style>#sk-container-id-15 {color: black;background-color: white;}#sk-container-id-15 pre{padding: 0;}#sk-container-id-15 div.sk-toggleable {background-color: white;}#sk-container-id-15 label.sk-toggleable__label {cursor: pointer;display: block;width: 100%;margin-bottom: 0;padding: 0.3em;box-sizing: border-box;text-align: center;}#sk-container-id-15 label.sk-toggleable__label-arrow:before {content: \"▸\";float: left;margin-right: 0.25em;color: #696969;}#sk-container-id-15 label.sk-toggleable__label-arrow:hover:before {color: black;}#sk-container-id-15 div.sk-estimator:hover label.sk-toggleable__label-arrow:before {color: black;}#sk-container-id-15 div.sk-toggleable__content {max-height: 0;max-width: 0;overflow: hidden;text-align: left;background-color: #f0f8ff;}#sk-container-id-15 div.sk-toggleable__content pre {margin: 0.2em;color: black;border-radius: 0.25em;background-color: #f0f8ff;}#sk-container-id-15 input.sk-toggleable__control:checked~div.sk-toggleable__content {max-height: 200px;max-width: 100%;overflow: auto;}#sk-container-id-15 input.sk-toggleable__control:checked~label.sk-toggleable__label-arrow:before {content: \"▾\";}#sk-container-id-15 div.sk-estimator input.sk-toggleable__control:checked~label.sk-toggleable__label {background-color: #d4ebff;}#sk-container-id-15 div.sk-label input.sk-toggleable__control:checked~label.sk-toggleable__label {background-color: #d4ebff;}#sk-container-id-15 input.sk-hidden--visually {border: 0;clip: rect(1px 1px 1px 1px);clip: rect(1px, 1px, 1px, 1px);height: 1px;margin: -1px;overflow: hidden;padding: 0;position: absolute;width: 1px;}#sk-container-id-15 div.sk-estimator {font-family: monospace;background-color: #f0f8ff;border: 1px dotted black;border-radius: 0.25em;box-sizing: border-box;margin-bottom: 0.5em;}#sk-container-id-15 div.sk-estimator:hover {background-color: #d4ebff;}#sk-container-id-15 div.sk-parallel-item::after {content: \"\";width: 100%;border-bottom: 1px solid gray;flex-grow: 1;}#sk-container-id-15 div.sk-label:hover label.sk-toggleable__label {background-color: #d4ebff;}#sk-container-id-15 div.sk-serial::before {content: \"\";position: absolute;border-left: 1px solid gray;box-sizing: border-box;top: 0;bottom: 0;left: 50%;z-index: 0;}#sk-container-id-15 div.sk-serial {display: flex;flex-direction: column;align-items: center;background-color: white;padding-right: 0.2em;padding-left: 0.2em;position: relative;}#sk-container-id-15 div.sk-item {position: relative;z-index: 1;}#sk-container-id-15 div.sk-parallel {display: flex;align-items: stretch;justify-content: center;background-color: white;position: relative;}#sk-container-id-15 div.sk-item::before, #sk-container-id-15 div.sk-parallel-item::before {content: \"\";position: absolute;border-left: 1px solid gray;box-sizing: border-box;top: 0;bottom: 0;left: 50%;z-index: -1;}#sk-container-id-15 div.sk-parallel-item {display: flex;flex-direction: column;z-index: 1;position: relative;background-color: white;}#sk-container-id-15 div.sk-parallel-item:first-child::after {align-self: flex-end;width: 50%;}#sk-container-id-15 div.sk-parallel-item:last-child::after {align-self: flex-start;width: 50%;}#sk-container-id-15 div.sk-parallel-item:only-child::after {width: 0;}#sk-container-id-15 div.sk-dashed-wrapped {border: 1px dashed gray;margin: 0 0.4em 0.5em 0.4em;box-sizing: border-box;padding-bottom: 0.4em;background-color: white;}#sk-container-id-15 div.sk-label label {font-family: monospace;font-weight: bold;display: inline-block;line-height: 1.2em;}#sk-container-id-15 div.sk-label-container {text-align: center;}#sk-container-id-15 div.sk-container {/* jupyter's `normalize.less` sets `[hidden] { display: none; }` but bootstrap.min.css set `[hidden] { display: none !important; }` so we also need the `!important` here to be able to override the default hidden behavior on the sphinx rendered scikit-learn.org. See: https://github.com/scikit-learn/scikit-learn/issues/21755 */display: inline-block !important;position: relative;}#sk-container-id-15 div.sk-text-repr-fallback {display: none;}</style><div id=\"sk-container-id-15\" class=\"sk-top-container\"><div class=\"sk-text-repr-fallback\"><pre>GridSearchCV(cv=5, estimator=ExtraTreesClassifier(random_state=42),\n",
       "             param_grid={&#x27;max_depth&#x27;: [18, 19, 20], &#x27;max_features&#x27;: [5, 6, 7],\n",
       "                         &#x27;min_samples_leaf&#x27;: [4, 5, 6]},\n",
       "             scoring=&#x27;accuracy&#x27;)</pre><b>In a Jupyter environment, please rerun this cell to show the HTML representation or trust the notebook. <br />On GitHub, the HTML representation is unable to render, please try loading this page with nbviewer.org.</b></div><div class=\"sk-container\" hidden><div class=\"sk-item sk-dashed-wrapped\"><div class=\"sk-label-container\"><div class=\"sk-label sk-toggleable\"><input class=\"sk-toggleable__control sk-hidden--visually\" id=\"sk-estimator-id-35\" type=\"checkbox\" ><label for=\"sk-estimator-id-35\" class=\"sk-toggleable__label sk-toggleable__label-arrow\">GridSearchCV</label><div class=\"sk-toggleable__content\"><pre>GridSearchCV(cv=5, estimator=ExtraTreesClassifier(random_state=42),\n",
       "             param_grid={&#x27;max_depth&#x27;: [18, 19, 20], &#x27;max_features&#x27;: [5, 6, 7],\n",
       "                         &#x27;min_samples_leaf&#x27;: [4, 5, 6]},\n",
       "             scoring=&#x27;accuracy&#x27;)</pre></div></div></div><div class=\"sk-parallel\"><div class=\"sk-parallel-item\"><div class=\"sk-item\"><div class=\"sk-label-container\"><div class=\"sk-label sk-toggleable\"><input class=\"sk-toggleable__control sk-hidden--visually\" id=\"sk-estimator-id-36\" type=\"checkbox\" ><label for=\"sk-estimator-id-36\" class=\"sk-toggleable__label sk-toggleable__label-arrow\">estimator: ExtraTreesClassifier</label><div class=\"sk-toggleable__content\"><pre>ExtraTreesClassifier(random_state=42)</pre></div></div></div><div class=\"sk-serial\"><div class=\"sk-item\"><div class=\"sk-estimator sk-toggleable\"><input class=\"sk-toggleable__control sk-hidden--visually\" id=\"sk-estimator-id-37\" type=\"checkbox\" ><label for=\"sk-estimator-id-37\" class=\"sk-toggleable__label sk-toggleable__label-arrow\">ExtraTreesClassifier</label><div class=\"sk-toggleable__content\"><pre>ExtraTreesClassifier(random_state=42)</pre></div></div></div></div></div></div></div></div></div></div>"
      ],
      "text/plain": [
       "GridSearchCV(cv=5, estimator=ExtraTreesClassifier(random_state=42),\n",
       "             param_grid={'max_depth': [18, 19, 20], 'max_features': [5, 6, 7],\n",
       "                         'min_samples_leaf': [4, 5, 6]},\n",
       "             scoring='accuracy')"
      ]
     },
     "execution_count": 125,
     "metadata": {},
     "output_type": "execute_result"
    }
   ],
   "source": [
    "params = {'max_features': [5, 6, 7], 'min_samples_leaf': [4, 5, 6], 'max_depth': [18, 19, 20]}\n",
    "extra_trees = ExtraTreesClassifier(n_estimators=100, random_state=42)\n",
    "grid = GridSearchCV(extra_trees, params, cv=5, verbose=0, scoring='accuracy')\n",
    "grid.fit(train_X, train_y)"
   ]
  },
  {
   "cell_type": "code",
   "execution_count": 126,
   "id": "8ae4d296",
   "metadata": {},
   "outputs": [
    {
     "data": {
      "text/plain": [
       "0.8082398584957161"
      ]
     },
     "execution_count": 126,
     "metadata": {},
     "output_type": "execute_result"
    }
   ],
   "source": [
    "grid.best_score_"
   ]
  },
  {
   "cell_type": "code",
   "execution_count": 124,
   "id": "393b763f",
   "metadata": {},
   "outputs": [
    {
     "data": {
      "text/html": [
       "<div>\n",
       "<style scoped>\n",
       "    .dataframe tbody tr th:only-of-type {\n",
       "        vertical-align: middle;\n",
       "    }\n",
       "\n",
       "    .dataframe tbody tr th {\n",
       "        vertical-align: top;\n",
       "    }\n",
       "\n",
       "    .dataframe thead th {\n",
       "        text-align: right;\n",
       "    }\n",
       "</style>\n",
       "<table border=\"1\" class=\"dataframe\">\n",
       "  <thead>\n",
       "    <tr style=\"text-align: right;\">\n",
       "      <th></th>\n",
       "      <th>HomePlanet_Earth</th>\n",
       "      <th>HomePlanet_Europa</th>\n",
       "      <th>HomePlanet_Mars</th>\n",
       "      <th>CryoSleep_True</th>\n",
       "      <th>Destination_55 Cancri e</th>\n",
       "      <th>Destination_PSO J318.5-22</th>\n",
       "      <th>Destination_TRAPPIST-1e</th>\n",
       "      <th>VIP_True</th>\n",
       "      <th>cabin_side_S</th>\n",
       "      <th>cabin_deck_A</th>\n",
       "      <th>...</th>\n",
       "      <th>travel_group_n</th>\n",
       "      <th>travelling_with_n_kids</th>\n",
       "      <th>lgb_preds</th>\n",
       "      <th>xgb_preds</th>\n",
       "      <th>lgb_overfit</th>\n",
       "      <th>logistic_reg</th>\n",
       "      <th>xgb_overfit</th>\n",
       "      <th>ctb_overfit</th>\n",
       "      <th>logistic_severely_underfit</th>\n",
       "      <th>logistic_underfit</th>\n",
       "    </tr>\n",
       "  </thead>\n",
       "  <tbody>\n",
       "    <tr>\n",
       "      <th>0</th>\n",
       "      <td>0.0</td>\n",
       "      <td>1.0</td>\n",
       "      <td>0.0</td>\n",
       "      <td>0.0</td>\n",
       "      <td>0.0</td>\n",
       "      <td>0.0</td>\n",
       "      <td>1.0</td>\n",
       "      <td>0.0</td>\n",
       "      <td>0.0</td>\n",
       "      <td>0.0</td>\n",
       "      <td>...</td>\n",
       "      <td>1.0</td>\n",
       "      <td>0.0</td>\n",
       "      <td>0.021052</td>\n",
       "      <td>0.364029</td>\n",
       "      <td>0.113313</td>\n",
       "      <td>0.725583</td>\n",
       "      <td>0.416498</td>\n",
       "      <td>0.067392</td>\n",
       "      <td>0.500000</td>\n",
       "      <td>0.760070</td>\n",
       "    </tr>\n",
       "    <tr>\n",
       "      <th>1</th>\n",
       "      <td>1.0</td>\n",
       "      <td>0.0</td>\n",
       "      <td>0.0</td>\n",
       "      <td>0.0</td>\n",
       "      <td>0.0</td>\n",
       "      <td>0.0</td>\n",
       "      <td>1.0</td>\n",
       "      <td>0.0</td>\n",
       "      <td>1.0</td>\n",
       "      <td>0.0</td>\n",
       "      <td>...</td>\n",
       "      <td>1.0</td>\n",
       "      <td>0.0</td>\n",
       "      <td>0.006808</td>\n",
       "      <td>0.249655</td>\n",
       "      <td>0.001791</td>\n",
       "      <td>0.288185</td>\n",
       "      <td>0.192300</td>\n",
       "      <td>0.006822</td>\n",
       "      <td>0.498639</td>\n",
       "      <td>0.440897</td>\n",
       "    </tr>\n",
       "    <tr>\n",
       "      <th>2</th>\n",
       "      <td>0.0</td>\n",
       "      <td>1.0</td>\n",
       "      <td>0.0</td>\n",
       "      <td>0.0</td>\n",
       "      <td>0.0</td>\n",
       "      <td>0.0</td>\n",
       "      <td>1.0</td>\n",
       "      <td>1.0</td>\n",
       "      <td>1.0</td>\n",
       "      <td>1.0</td>\n",
       "      <td>...</td>\n",
       "      <td>2.0</td>\n",
       "      <td>0.0</td>\n",
       "      <td>0.001889</td>\n",
       "      <td>0.095474</td>\n",
       "      <td>0.000642</td>\n",
       "      <td>0.000049</td>\n",
       "      <td>0.118349</td>\n",
       "      <td>0.037262</td>\n",
       "      <td>0.487882</td>\n",
       "      <td>0.000030</td>\n",
       "    </tr>\n",
       "    <tr>\n",
       "      <th>3</th>\n",
       "      <td>0.0</td>\n",
       "      <td>1.0</td>\n",
       "      <td>0.0</td>\n",
       "      <td>0.0</td>\n",
       "      <td>0.0</td>\n",
       "      <td>0.0</td>\n",
       "      <td>1.0</td>\n",
       "      <td>0.0</td>\n",
       "      <td>1.0</td>\n",
       "      <td>1.0</td>\n",
       "      <td>...</td>\n",
       "      <td>2.0</td>\n",
       "      <td>0.0</td>\n",
       "      <td>0.000782</td>\n",
       "      <td>0.108845</td>\n",
       "      <td>0.001101</td>\n",
       "      <td>0.010386</td>\n",
       "      <td>0.115037</td>\n",
       "      <td>0.008218</td>\n",
       "      <td>0.493448</td>\n",
       "      <td>0.006246</td>\n",
       "    </tr>\n",
       "    <tr>\n",
       "      <th>4</th>\n",
       "      <td>1.0</td>\n",
       "      <td>0.0</td>\n",
       "      <td>0.0</td>\n",
       "      <td>0.0</td>\n",
       "      <td>0.0</td>\n",
       "      <td>0.0</td>\n",
       "      <td>1.0</td>\n",
       "      <td>0.0</td>\n",
       "      <td>1.0</td>\n",
       "      <td>0.0</td>\n",
       "      <td>...</td>\n",
       "      <td>1.0</td>\n",
       "      <td>0.0</td>\n",
       "      <td>0.007384</td>\n",
       "      <td>0.282802</td>\n",
       "      <td>0.000824</td>\n",
       "      <td>0.252875</td>\n",
       "      <td>0.164430</td>\n",
       "      <td>0.146857</td>\n",
       "      <td>0.498468</td>\n",
       "      <td>0.372061</td>\n",
       "    </tr>\n",
       "    <tr>\n",
       "      <th>...</th>\n",
       "      <td>...</td>\n",
       "      <td>...</td>\n",
       "      <td>...</td>\n",
       "      <td>...</td>\n",
       "      <td>...</td>\n",
       "      <td>...</td>\n",
       "      <td>...</td>\n",
       "      <td>...</td>\n",
       "      <td>...</td>\n",
       "      <td>...</td>\n",
       "      <td>...</td>\n",
       "      <td>...</td>\n",
       "      <td>...</td>\n",
       "      <td>...</td>\n",
       "      <td>...</td>\n",
       "      <td>...</td>\n",
       "      <td>...</td>\n",
       "      <td>...</td>\n",
       "      <td>...</td>\n",
       "      <td>...</td>\n",
       "      <td>...</td>\n",
       "    </tr>\n",
       "    <tr>\n",
       "      <th>8688</th>\n",
       "      <td>0.0</td>\n",
       "      <td>1.0</td>\n",
       "      <td>0.0</td>\n",
       "      <td>0.0</td>\n",
       "      <td>1.0</td>\n",
       "      <td>0.0</td>\n",
       "      <td>0.0</td>\n",
       "      <td>1.0</td>\n",
       "      <td>0.0</td>\n",
       "      <td>1.0</td>\n",
       "      <td>...</td>\n",
       "      <td>1.0</td>\n",
       "      <td>0.0</td>\n",
       "      <td>0.851204</td>\n",
       "      <td>0.626135</td>\n",
       "      <td>0.714163</td>\n",
       "      <td>0.879245</td>\n",
       "      <td>0.770861</td>\n",
       "      <td>0.790302</td>\n",
       "      <td>0.501592</td>\n",
       "      <td>0.868423</td>\n",
       "    </tr>\n",
       "    <tr>\n",
       "      <th>8689</th>\n",
       "      <td>1.0</td>\n",
       "      <td>0.0</td>\n",
       "      <td>0.0</td>\n",
       "      <td>1.0</td>\n",
       "      <td>0.0</td>\n",
       "      <td>1.0</td>\n",
       "      <td>0.0</td>\n",
       "      <td>0.0</td>\n",
       "      <td>1.0</td>\n",
       "      <td>0.0</td>\n",
       "      <td>...</td>\n",
       "      <td>1.0</td>\n",
       "      <td>0.0</td>\n",
       "      <td>0.998676</td>\n",
       "      <td>0.891678</td>\n",
       "      <td>0.120602</td>\n",
       "      <td>0.836636</td>\n",
       "      <td>0.455795</td>\n",
       "      <td>0.118803</td>\n",
       "      <td>0.499986</td>\n",
       "      <td>0.626546</td>\n",
       "    </tr>\n",
       "    <tr>\n",
       "      <th>8690</th>\n",
       "      <td>1.0</td>\n",
       "      <td>0.0</td>\n",
       "      <td>0.0</td>\n",
       "      <td>0.0</td>\n",
       "      <td>0.0</td>\n",
       "      <td>0.0</td>\n",
       "      <td>1.0</td>\n",
       "      <td>0.0</td>\n",
       "      <td>1.0</td>\n",
       "      <td>0.0</td>\n",
       "      <td>...</td>\n",
       "      <td>1.0</td>\n",
       "      <td>0.0</td>\n",
       "      <td>0.987176</td>\n",
       "      <td>0.862881</td>\n",
       "      <td>0.117032</td>\n",
       "      <td>0.812295</td>\n",
       "      <td>0.608523</td>\n",
       "      <td>0.268266</td>\n",
       "      <td>0.500077</td>\n",
       "      <td>0.695083</td>\n",
       "    </tr>\n",
       "    <tr>\n",
       "      <th>8691</th>\n",
       "      <td>0.0</td>\n",
       "      <td>1.0</td>\n",
       "      <td>0.0</td>\n",
       "      <td>0.0</td>\n",
       "      <td>1.0</td>\n",
       "      <td>0.0</td>\n",
       "      <td>0.0</td>\n",
       "      <td>0.0</td>\n",
       "      <td>1.0</td>\n",
       "      <td>0.0</td>\n",
       "      <td>...</td>\n",
       "      <td>2.0</td>\n",
       "      <td>0.0</td>\n",
       "      <td>0.001518</td>\n",
       "      <td>0.106638</td>\n",
       "      <td>0.001345</td>\n",
       "      <td>0.021834</td>\n",
       "      <td>0.111150</td>\n",
       "      <td>0.016703</td>\n",
       "      <td>0.493881</td>\n",
       "      <td>0.005712</td>\n",
       "    </tr>\n",
       "    <tr>\n",
       "      <th>8692</th>\n",
       "      <td>0.0</td>\n",
       "      <td>1.0</td>\n",
       "      <td>0.0</td>\n",
       "      <td>0.0</td>\n",
       "      <td>0.0</td>\n",
       "      <td>0.0</td>\n",
       "      <td>1.0</td>\n",
       "      <td>0.0</td>\n",
       "      <td>1.0</td>\n",
       "      <td>0.0</td>\n",
       "      <td>...</td>\n",
       "      <td>2.0</td>\n",
       "      <td>0.0</td>\n",
       "      <td>0.997172</td>\n",
       "      <td>0.876744</td>\n",
       "      <td>0.996730</td>\n",
       "      <td>0.980887</td>\n",
       "      <td>0.894788</td>\n",
       "      <td>0.990647</td>\n",
       "      <td>0.503351</td>\n",
       "      <td>0.969621</td>\n",
       "    </tr>\n",
       "  </tbody>\n",
       "</table>\n",
       "<p>8693 rows × 34 columns</p>\n",
       "</div>"
      ],
      "text/plain": [
       "      HomePlanet_Earth  HomePlanet_Europa  HomePlanet_Mars  CryoSleep_True  \\\n",
       "0                  0.0                1.0              0.0             0.0   \n",
       "1                  1.0                0.0              0.0             0.0   \n",
       "2                  0.0                1.0              0.0             0.0   \n",
       "3                  0.0                1.0              0.0             0.0   \n",
       "4                  1.0                0.0              0.0             0.0   \n",
       "...                ...                ...              ...             ...   \n",
       "8688               0.0                1.0              0.0             0.0   \n",
       "8689               1.0                0.0              0.0             1.0   \n",
       "8690               1.0                0.0              0.0             0.0   \n",
       "8691               0.0                1.0              0.0             0.0   \n",
       "8692               0.0                1.0              0.0             0.0   \n",
       "\n",
       "      Destination_55 Cancri e  Destination_PSO J318.5-22  \\\n",
       "0                         0.0                        0.0   \n",
       "1                         0.0                        0.0   \n",
       "2                         0.0                        0.0   \n",
       "3                         0.0                        0.0   \n",
       "4                         0.0                        0.0   \n",
       "...                       ...                        ...   \n",
       "8688                      1.0                        0.0   \n",
       "8689                      0.0                        1.0   \n",
       "8690                      0.0                        0.0   \n",
       "8691                      1.0                        0.0   \n",
       "8692                      0.0                        0.0   \n",
       "\n",
       "      Destination_TRAPPIST-1e  VIP_True  cabin_side_S  cabin_deck_A  ...  \\\n",
       "0                         1.0       0.0           0.0           0.0  ...   \n",
       "1                         1.0       0.0           1.0           0.0  ...   \n",
       "2                         1.0       1.0           1.0           1.0  ...   \n",
       "3                         1.0       0.0           1.0           1.0  ...   \n",
       "4                         1.0       0.0           1.0           0.0  ...   \n",
       "...                       ...       ...           ...           ...  ...   \n",
       "8688                      0.0       1.0           0.0           1.0  ...   \n",
       "8689                      0.0       0.0           1.0           0.0  ...   \n",
       "8690                      1.0       0.0           1.0           0.0  ...   \n",
       "8691                      0.0       0.0           1.0           0.0  ...   \n",
       "8692                      1.0       0.0           1.0           0.0  ...   \n",
       "\n",
       "      travel_group_n  travelling_with_n_kids  lgb_preds  xgb_preds  \\\n",
       "0                1.0                     0.0   0.021052   0.364029   \n",
       "1                1.0                     0.0   0.006808   0.249655   \n",
       "2                2.0                     0.0   0.001889   0.095474   \n",
       "3                2.0                     0.0   0.000782   0.108845   \n",
       "4                1.0                     0.0   0.007384   0.282802   \n",
       "...              ...                     ...        ...        ...   \n",
       "8688             1.0                     0.0   0.851204   0.626135   \n",
       "8689             1.0                     0.0   0.998676   0.891678   \n",
       "8690             1.0                     0.0   0.987176   0.862881   \n",
       "8691             2.0                     0.0   0.001518   0.106638   \n",
       "8692             2.0                     0.0   0.997172   0.876744   \n",
       "\n",
       "      lgb_overfit  logistic_reg  xgb_overfit  ctb_overfit  \\\n",
       "0        0.113313      0.725583     0.416498     0.067392   \n",
       "1        0.001791      0.288185     0.192300     0.006822   \n",
       "2        0.000642      0.000049     0.118349     0.037262   \n",
       "3        0.001101      0.010386     0.115037     0.008218   \n",
       "4        0.000824      0.252875     0.164430     0.146857   \n",
       "...           ...           ...          ...          ...   \n",
       "8688     0.714163      0.879245     0.770861     0.790302   \n",
       "8689     0.120602      0.836636     0.455795     0.118803   \n",
       "8690     0.117032      0.812295     0.608523     0.268266   \n",
       "8691     0.001345      0.021834     0.111150     0.016703   \n",
       "8692     0.996730      0.980887     0.894788     0.990647   \n",
       "\n",
       "      logistic_severely_underfit  logistic_underfit  \n",
       "0                       0.500000           0.760070  \n",
       "1                       0.498639           0.440897  \n",
       "2                       0.487882           0.000030  \n",
       "3                       0.493448           0.006246  \n",
       "4                       0.498468           0.372061  \n",
       "...                          ...                ...  \n",
       "8688                    0.501592           0.868423  \n",
       "8689                    0.499986           0.626546  \n",
       "8690                    0.500077           0.695083  \n",
       "8691                    0.493881           0.005712  \n",
       "8692                    0.503351           0.969621  \n",
       "\n",
       "[8693 rows x 34 columns]"
      ]
     },
     "execution_count": 124,
     "metadata": {},
     "output_type": "execute_result"
    }
   ],
   "source": [
    "train_X"
   ]
  },
  {
   "cell_type": "code",
   "execution_count": 127,
   "id": "ef8e0dfb",
   "metadata": {},
   "outputs": [],
   "source": [
    "grid.best_estimator_.fit(train_X, train_y)\n",
    "df = pd.DataFrame()\n",
    "df['Transported'] = grid.best_estimator_.predict(test_prep[train_X.columns]).astype(bool)\n",
    "df.set_index(test.PassengerId, inplace=True)\n",
    "df.to_csv('spaceship_preds_ensemble_mean_3.csv')"
   ]
  },
  {
   "cell_type": "markdown",
   "id": "614ebd64",
   "metadata": {},
   "source": [
    "Kaggle score: 0.80009"
   ]
  }
 ],
 "metadata": {
  "kernelspec": {
   "display_name": "Python 3 (ipykernel)",
   "language": "python",
   "name": "python3"
  },
  "language_info": {
   "codemirror_mode": {
    "name": "ipython",
    "version": 3
   },
   "file_extension": ".py",
   "mimetype": "text/x-python",
   "name": "python",
   "nbconvert_exporter": "python",
   "pygments_lexer": "ipython3",
   "version": "3.10.11"
  }
 },
 "nbformat": 4,
 "nbformat_minor": 5
}
